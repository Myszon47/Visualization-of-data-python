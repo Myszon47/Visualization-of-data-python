{
 "cells": [
  {
   "cell_type": "markdown",
   "id": "1cb9f48e",
   "metadata": {},
   "source": [
    "import chart_studio.plotly as py\n",
    "import plotly.graph_objs as go \n",
    "from plotly.offline import download_plotlyjs, init_notebook_mode, plot, iplot\n",
    "import pandas as pd\n",
    "import numpy as np\n",
    "%matplotlib inline"
   ]
  },
  {
   "cell_type": "code",
   "execution_count": 2,
   "id": "c3b11ac6",
   "metadata": {
    "scrolled": true
   },
   "outputs": [
    {
     "name": "stdout",
     "output_type": "stream",
     "text": [
      "5.9.0\n"
     ]
    }
   ],
   "source": [
    "from plotly import __version__\n",
    "from plotly.offline import download_plotlyjs, init_notebook_mode, plot, iplot\n",
    "\n",
    "print(__version__) # requires version >= 1.9.0"
   ]
  },
  {
   "cell_type": "code",
   "execution_count": 3,
   "id": "297540cd",
   "metadata": {},
   "outputs": [],
   "source": [
    "import cufflinks as cf"
   ]
  },
  {
   "cell_type": "code",
   "execution_count": 4,
   "id": "b87e827a",
   "metadata": {
    "scrolled": true
   },
   "outputs": [
    {
     "data": {
      "text/html": [
       "        <script type=\"text/javascript\">\n",
       "        window.PlotlyConfig = {MathJaxConfig: 'local'};\n",
       "        if (window.MathJax && window.MathJax.Hub && window.MathJax.Hub.Config) {window.MathJax.Hub.Config({SVG: {font: \"STIX-Web\"}});}\n",
       "        if (typeof require !== 'undefined') {\n",
       "        require.undef(\"plotly\");\n",
       "        requirejs.config({\n",
       "            paths: {\n",
       "                'plotly': ['https://cdn.plot.ly/plotly-2.12.1.min']\n",
       "            }\n",
       "        });\n",
       "        require(['plotly'], function(Plotly) {\n",
       "            window._Plotly = Plotly;\n",
       "        });\n",
       "        }\n",
       "        </script>\n",
       "        "
      ]
     },
     "metadata": {},
     "output_type": "display_data"
    }
   ],
   "source": [
    "cf.go_offline()"
   ]
  },
  {
   "cell_type": "code",
   "execution_count": 5,
   "id": "34b759a7",
   "metadata": {},
   "outputs": [
    {
     "data": {
      "text/html": [
       "        <script type=\"text/javascript\">\n",
       "        window.PlotlyConfig = {MathJaxConfig: 'local'};\n",
       "        if (window.MathJax && window.MathJax.Hub && window.MathJax.Hub.Config) {window.MathJax.Hub.Config({SVG: {font: \"STIX-Web\"}});}\n",
       "        if (typeof require !== 'undefined') {\n",
       "        require.undef(\"plotly\");\n",
       "        requirejs.config({\n",
       "            paths: {\n",
       "                'plotly': ['https://cdn.plot.ly/plotly-2.12.1.min']\n",
       "            }\n",
       "        });\n",
       "        require(['plotly'], function(Plotly) {\n",
       "            window._Plotly = Plotly;\n",
       "        });\n",
       "        }\n",
       "        </script>\n",
       "        "
      ]
     },
     "metadata": {},
     "output_type": "display_data"
    }
   ],
   "source": [
    "init_notebook_mode(connected=True) "
   ]
  },
  {
   "cell_type": "code",
   "execution_count": 6,
   "id": "d1397b59",
   "metadata": {},
   "outputs": [],
   "source": [
    "df = pd.read_csv('countries.csv')"
   ]
  },
  {
   "cell_type": "code",
   "execution_count": 7,
   "id": "6d8a37ef",
   "metadata": {},
   "outputs": [
    {
     "data": {
      "text/html": [
       "<div>\n",
       "<style scoped>\n",
       "    .dataframe tbody tr th:only-of-type {\n",
       "        vertical-align: middle;\n",
       "    }\n",
       "\n",
       "    .dataframe tbody tr th {\n",
       "        vertical-align: top;\n",
       "    }\n",
       "\n",
       "    .dataframe thead th {\n",
       "        text-align: right;\n",
       "    }\n",
       "</style>\n",
       "<table border=\"1\" class=\"dataframe\">\n",
       "  <thead>\n",
       "    <tr style=\"text-align: right;\">\n",
       "      <th></th>\n",
       "      <th>Rank</th>\n",
       "      <th>ID</th>\n",
       "      <th>Country</th>\n",
       "      <th>Continent</th>\n",
       "      <th>Population</th>\n",
       "      <th>IMF_GDP</th>\n",
       "      <th>UN_GDP</th>\n",
       "      <th>GDP_per_capita</th>\n",
       "    </tr>\n",
       "  </thead>\n",
       "  <tbody>\n",
       "    <tr>\n",
       "      <th>0</th>\n",
       "      <td>1</td>\n",
       "      <td>840</td>\n",
       "      <td>United States</td>\n",
       "      <td>North America</td>\n",
       "      <td>339996.56</td>\n",
       "      <td>2.669515e+13</td>\n",
       "      <td>1.862448e+13</td>\n",
       "      <td>78515.94</td>\n",
       "    </tr>\n",
       "    <tr>\n",
       "      <th>1</th>\n",
       "      <td>2</td>\n",
       "      <td>156</td>\n",
       "      <td>China</td>\n",
       "      <td>Asia</td>\n",
       "      <td>1425671.35</td>\n",
       "      <td>2.186548e+13</td>\n",
       "      <td>1.121828e+13</td>\n",
       "      <td>15336.97</td>\n",
       "    </tr>\n",
       "    <tr>\n",
       "      <th>2</th>\n",
       "      <td>3</td>\n",
       "      <td>392</td>\n",
       "      <td>Japan</td>\n",
       "      <td>Asia</td>\n",
       "      <td>123294.51</td>\n",
       "      <td>5.291351e+12</td>\n",
       "      <td>4.936212e+12</td>\n",
       "      <td>42916.35</td>\n",
       "    </tr>\n",
       "    <tr>\n",
       "      <th>3</th>\n",
       "      <td>4</td>\n",
       "      <td>276</td>\n",
       "      <td>Germany</td>\n",
       "      <td>Europe</td>\n",
       "      <td>83294.63</td>\n",
       "      <td>4.564778e+12</td>\n",
       "      <td>3.477796e+12</td>\n",
       "      <td>54802.79</td>\n",
       "    </tr>\n",
       "    <tr>\n",
       "      <th>4</th>\n",
       "      <td>5</td>\n",
       "      <td>356</td>\n",
       "      <td>India</td>\n",
       "      <td>Asia</td>\n",
       "      <td>1428627.66</td>\n",
       "      <td>3.893670e+12</td>\n",
       "      <td>2.259642e+12</td>\n",
       "      <td>2725.46</td>\n",
       "    </tr>\n",
       "  </tbody>\n",
       "</table>\n",
       "</div>"
      ],
      "text/plain": [
       "   Rank   ID        Country      Continent  Population       IMF_GDP  \\\n",
       "0     1  840  United States  North America   339996.56  2.669515e+13   \n",
       "1     2  156          China           Asia  1425671.35  2.186548e+13   \n",
       "2     3  392          Japan           Asia   123294.51  5.291351e+12   \n",
       "3     4  276        Germany         Europe    83294.63  4.564778e+12   \n",
       "4     5  356          India           Asia  1428627.66  3.893670e+12   \n",
       "\n",
       "         UN_GDP  GDP_per_capita  \n",
       "0  1.862448e+13        78515.94  \n",
       "1  1.121828e+13        15336.97  \n",
       "2  4.936212e+12        42916.35  \n",
       "3  3.477796e+12        54802.79  \n",
       "4  2.259642e+12         2725.46  "
      ]
     },
     "execution_count": 7,
     "metadata": {},
     "output_type": "execute_result"
    }
   ],
   "source": [
    "df.head()"
   ]
  },
  {
   "cell_type": "code",
   "execution_count": 8,
   "id": "89716f62",
   "metadata": {},
   "outputs": [],
   "source": [
    "df['IMF_GDP'] = df['IMF_GDP'] / 1000000000000\n",
    "df = df.drop('UN_GDP', axis=1)"
   ]
  },
  {
   "cell_type": "code",
   "execution_count": 9,
   "id": "268b5e85",
   "metadata": {},
   "outputs": [
    {
     "data": {
      "text/html": [
       "<div>\n",
       "<style scoped>\n",
       "    .dataframe tbody tr th:only-of-type {\n",
       "        vertical-align: middle;\n",
       "    }\n",
       "\n",
       "    .dataframe tbody tr th {\n",
       "        vertical-align: top;\n",
       "    }\n",
       "\n",
       "    .dataframe thead th {\n",
       "        text-align: right;\n",
       "    }\n",
       "</style>\n",
       "<table border=\"1\" class=\"dataframe\">\n",
       "  <thead>\n",
       "    <tr style=\"text-align: right;\">\n",
       "      <th></th>\n",
       "      <th>Rank</th>\n",
       "      <th>ID</th>\n",
       "      <th>Country</th>\n",
       "      <th>Continent</th>\n",
       "      <th>Population</th>\n",
       "      <th>IMF_GDP</th>\n",
       "      <th>GDP_per_capita</th>\n",
       "    </tr>\n",
       "  </thead>\n",
       "  <tbody>\n",
       "    <tr>\n",
       "      <th>0</th>\n",
       "      <td>1</td>\n",
       "      <td>840</td>\n",
       "      <td>United States</td>\n",
       "      <td>North America</td>\n",
       "      <td>339996.56</td>\n",
       "      <td>26.695150</td>\n",
       "      <td>78515.94</td>\n",
       "    </tr>\n",
       "    <tr>\n",
       "      <th>1</th>\n",
       "      <td>2</td>\n",
       "      <td>156</td>\n",
       "      <td>China</td>\n",
       "      <td>Asia</td>\n",
       "      <td>1425671.35</td>\n",
       "      <td>21.865482</td>\n",
       "      <td>15336.97</td>\n",
       "    </tr>\n",
       "    <tr>\n",
       "      <th>2</th>\n",
       "      <td>3</td>\n",
       "      <td>392</td>\n",
       "      <td>Japan</td>\n",
       "      <td>Asia</td>\n",
       "      <td>123294.51</td>\n",
       "      <td>5.291351</td>\n",
       "      <td>42916.35</td>\n",
       "    </tr>\n",
       "    <tr>\n",
       "      <th>3</th>\n",
       "      <td>4</td>\n",
       "      <td>276</td>\n",
       "      <td>Germany</td>\n",
       "      <td>Europe</td>\n",
       "      <td>83294.63</td>\n",
       "      <td>4.564778</td>\n",
       "      <td>54802.79</td>\n",
       "    </tr>\n",
       "    <tr>\n",
       "      <th>4</th>\n",
       "      <td>5</td>\n",
       "      <td>356</td>\n",
       "      <td>India</td>\n",
       "      <td>Asia</td>\n",
       "      <td>1428627.66</td>\n",
       "      <td>3.893670</td>\n",
       "      <td>2725.46</td>\n",
       "    </tr>\n",
       "  </tbody>\n",
       "</table>\n",
       "</div>"
      ],
      "text/plain": [
       "   Rank   ID        Country      Continent  Population    IMF_GDP  \\\n",
       "0     1  840  United States  North America   339996.56  26.695150   \n",
       "1     2  156          China           Asia  1425671.35  21.865482   \n",
       "2     3  392          Japan           Asia   123294.51   5.291351   \n",
       "3     4  276        Germany         Europe    83294.63   4.564778   \n",
       "4     5  356          India           Asia  1428627.66   3.893670   \n",
       "\n",
       "   GDP_per_capita  \n",
       "0        78515.94  \n",
       "1        15336.97  \n",
       "2        42916.35  \n",
       "3        54802.79  \n",
       "4         2725.46  "
      ]
     },
     "execution_count": 9,
     "metadata": {},
     "output_type": "execute_result"
    }
   ],
   "source": [
    "df.head()"
   ]
  },
  {
   "cell_type": "code",
   "execution_count": 10,
   "id": "89782130",
   "metadata": {},
   "outputs": [],
   "source": [
    "map_data = dict(\n",
    "    type = 'choropleth',\n",
    "    locations = df['Country'],\n",
    "    text = df['Country'],\n",
    "    z = df['IMF_GDP'],\n",
    "    locationmode = 'country names',\n",
    "    colorscale='matter',\n",
    "    colorbar = {'title': 'GDP k Billions US'},\n",
    ")\n",
    "map_layout = dict(\n",
    "    title = 'Global GDP 2022',\n",
    "    geo = dict(\n",
    "        showframe = False,\n",
    "        projection = {'type': 'mercator'}\n",
    "    )\n",
    ")"
   ]
  },
  {
   "cell_type": "code",
   "execution_count": 11,
   "id": "5331c5d0",
   "metadata": {
    "scrolled": false
   },
   "outputs": [
    {
     "data": {
      "application/vnd.plotly.v1+json": {
       "config": {
        "linkText": "Export to plot.ly",
        "plotlyServerURL": "https://plot.ly",
        "showLink": false
       },
       "data": [
        {
         "colorbar": {
          "title": {
           "text": "GDP k Billions US"
          }
         },
         "colorscale": [
          [
           0,
           "rgb(253, 237, 176)"
          ],
          [
           0.09090909090909091,
           "rgb(250, 205, 145)"
          ],
          [
           0.18181818181818182,
           "rgb(246, 173, 119)"
          ],
          [
           0.2727272727272727,
           "rgb(240, 142, 98)"
          ],
          [
           0.36363636363636365,
           "rgb(231, 109, 84)"
          ],
          [
           0.45454545454545453,
           "rgb(216, 80, 83)"
          ],
          [
           0.5454545454545454,
           "rgb(195, 56, 90)"
          ],
          [
           0.6363636363636364,
           "rgb(168, 40, 96)"
          ],
          [
           0.7272727272727273,
           "rgb(138, 29, 99)"
          ],
          [
           0.8181818181818182,
           "rgb(107, 24, 93)"
          ],
          [
           0.9090909090909091,
           "rgb(76, 21, 80)"
          ],
          [
           1,
           "rgb(47, 15, 61)"
          ]
         ],
         "locationmode": "country names",
         "locations": [
          "United States",
          "China",
          "Japan",
          "Germany",
          "India",
          "United Kingdom",
          "France",
          "Canada",
          "Italy",
          "Brazil",
          "South Korea",
          "Australia",
          "Iran",
          "Russia",
          "Spain",
          "Indonesia",
          "Mexico",
          "Netherlands",
          "Saudi Arabia",
          "Taiwan",
          "Switzerland",
          "Poland",
          "Turkey",
          "Sweden",
          "Belgium",
          "Nigeria",
          "Argentina",
          "Ireland",
          "Thailand",
          "Norway",
          "Israel",
          "Austria",
          "United Arab Emirates",
          "Malaysia",
          "Vietnam",
          "Singapore",
          "Egypt",
          "South Africa",
          "Philippines",
          "Bangladesh",
          "Denmark",
          "Hong Kong",
          "Colombia",
          "Chile",
          "Czech Republic",
          "Finland",
          "Romania",
          "Iraq",
          "New Zealand",
          "Portugal",
          "Peru",
          "Greece",
          "Qatar",
          "Kazakhstan",
          "Hungary",
          "Algeria",
          "Kuwait",
          "Morocco",
          "Angola",
          "Slovakia",
          "Puerto Rico",
          "Ecuador",
          "Kenya",
          "Dominican Republic",
          "Ethiopia",
          "Oman",
          "Bulgaria",
          "Guatemala",
          "Luxembourg",
          "Sri Lanka",
          "Tanzania",
          "Turkmenistan",
          "Uzbekistan",
          "Ivory Coast",
          "Ghana",
          "Panama",
          "Lithuania",
          "Croatia",
          "Myanmar",
          "Azerbaijan",
          "Serbia",
          "DR Congo",
          "Slovenia",
          "Costa Rica",
          "Uruguay",
          "Belarus",
          "Jordan",
          "Uganda",
          "Venezuela",
          "Cameroon",
          "Bahrain",
          "Libya",
          "Macau",
          "Paraguay",
          "Bolivia",
          "Latvia",
          "Estonia",
          "Nepal",
          "Zimbabwe",
          "Papua New Guinea",
          "El Salvador",
          "Senegal",
          "Honduras",
          "Cambodia",
          "Cyprus",
          "Yemen",
          "Iceland",
          "Zambia",
          "Brunei",
          "Trinidad and Tobago",
          "Bosnia and Herzegovina",
          "Georgia",
          "Guinea",
          "Gabon",
          "Burkina Faso",
          "Haiti",
          "Mali",
          "Mongolia",
          "Benin",
          "Botswana",
          "Mozambique",
          "Albania",
          "Malta",
          "Laos",
          "Niger",
          "Nicaragua",
          "Guyana",
          "Jamaica",
          "Armenia",
          "Republic of the Congo",
          "North Macedonia",
          "Madagascar",
          "Equatorial Guinea",
          "Namibia",
          "Moldova",
          "Bahamas",
          "Chad",
          "Rwanda",
          "Mauritius",
          "Malawi",
          "South Sudan",
          "Mauritania",
          "Togo",
          "Kyrgyzstan",
          "Somalia",
          "Tajikistan",
          "Montenegro",
          "Maldives",
          "Barbados",
          "Fiji",
          "Eswatini",
          "Sierra Leone",
          "Djibouti",
          "Liberia",
          "Burundi",
          "Andorra",
          "Aruba",
          "Suriname",
          "Bhutan",
          "Central African Republic",
          "Eritrea",
          "Lesotho",
          "Gambia",
          "Saint Lucia",
          "Cape Verde",
          "Belize",
          "Timor-Leste",
          "Seychelles",
          "Guinea-Bissau",
          "Solomon Islands",
          "San Marino",
          "Antigua and Barbuda",
          "Comoros",
          "Grenada",
          "Saint Kitts and Nevis",
          "Vanuatu",
          "Saint Vincent and the Grenadines",
          "Samoa",
          "Dominica",
          "Tonga",
          "Sao Tome and Principe",
          "Micronesia",
          "Palau",
          "Marshall Islands",
          "Kiribati",
          "Nauru",
          "Tuvalu",
          "Afghanistan",
          "Bermuda",
          "British Virgin Islands",
          "Cayman Islands",
          "Cook Islands",
          "Cuba",
          "French Polynesia",
          "Palestine",
          "Greenland",
          "North Korea",
          "Kosovo",
          "Lebanon",
          "Liechtenstein",
          "Monaco",
          "Montserrat",
          "Curacao",
          "Sint Maarten",
          "New Caledonia",
          "Pakistan",
          "Anguilla",
          "Sudan",
          "Syria",
          "Tunisia",
          "Turks and Caicos Islands",
          "Ukraine"
         ],
         "text": [
          "United States",
          "China",
          "Japan",
          "Germany",
          "India",
          "United Kingdom",
          "France",
          "Canada",
          "Italy",
          "Brazil",
          "South Korea",
          "Australia",
          "Iran",
          "Russia",
          "Spain",
          "Indonesia",
          "Mexico",
          "Netherlands",
          "Saudi Arabia",
          "Taiwan",
          "Switzerland",
          "Poland",
          "Turkey",
          "Sweden",
          "Belgium",
          "Nigeria",
          "Argentina",
          "Ireland",
          "Thailand",
          "Norway",
          "Israel",
          "Austria",
          "United Arab Emirates",
          "Malaysia",
          "Vietnam",
          "Singapore",
          "Egypt",
          "South Africa",
          "Philippines",
          "Bangladesh",
          "Denmark",
          "Hong Kong",
          "Colombia",
          "Chile",
          "Czech Republic",
          "Finland",
          "Romania",
          "Iraq",
          "New Zealand",
          "Portugal",
          "Peru",
          "Greece",
          "Qatar",
          "Kazakhstan",
          "Hungary",
          "Algeria",
          "Kuwait",
          "Morocco",
          "Angola",
          "Slovakia",
          "Puerto Rico",
          "Ecuador",
          "Kenya",
          "Dominican Republic",
          "Ethiopia",
          "Oman",
          "Bulgaria",
          "Guatemala",
          "Luxembourg",
          "Sri Lanka",
          "Tanzania",
          "Turkmenistan",
          "Uzbekistan",
          "Ivory Coast",
          "Ghana",
          "Panama",
          "Lithuania",
          "Croatia",
          "Myanmar",
          "Azerbaijan",
          "Serbia",
          "DR Congo",
          "Slovenia",
          "Costa Rica",
          "Uruguay",
          "Belarus",
          "Jordan",
          "Uganda",
          "Venezuela",
          "Cameroon",
          "Bahrain",
          "Libya",
          "Macau",
          "Paraguay",
          "Bolivia",
          "Latvia",
          "Estonia",
          "Nepal",
          "Zimbabwe",
          "Papua New Guinea",
          "El Salvador",
          "Senegal",
          "Honduras",
          "Cambodia",
          "Cyprus",
          "Yemen",
          "Iceland",
          "Zambia",
          "Brunei",
          "Trinidad and Tobago",
          "Bosnia and Herzegovina",
          "Georgia",
          "Guinea",
          "Gabon",
          "Burkina Faso",
          "Haiti",
          "Mali",
          "Mongolia",
          "Benin",
          "Botswana",
          "Mozambique",
          "Albania",
          "Malta",
          "Laos",
          "Niger",
          "Nicaragua",
          "Guyana",
          "Jamaica",
          "Armenia",
          "Republic of the Congo",
          "North Macedonia",
          "Madagascar",
          "Equatorial Guinea",
          "Namibia",
          "Moldova",
          "Bahamas",
          "Chad",
          "Rwanda",
          "Mauritius",
          "Malawi",
          "South Sudan",
          "Mauritania",
          "Togo",
          "Kyrgyzstan",
          "Somalia",
          "Tajikistan",
          "Montenegro",
          "Maldives",
          "Barbados",
          "Fiji",
          "Eswatini",
          "Sierra Leone",
          "Djibouti",
          "Liberia",
          "Burundi",
          "Andorra",
          "Aruba",
          "Suriname",
          "Bhutan",
          "Central African Republic",
          "Eritrea",
          "Lesotho",
          "Gambia",
          "Saint Lucia",
          "Cape Verde",
          "Belize",
          "Timor-Leste",
          "Seychelles",
          "Guinea-Bissau",
          "Solomon Islands",
          "San Marino",
          "Antigua and Barbuda",
          "Comoros",
          "Grenada",
          "Saint Kitts and Nevis",
          "Vanuatu",
          "Saint Vincent and the Grenadines",
          "Samoa",
          "Dominica",
          "Tonga",
          "Sao Tome and Principe",
          "Micronesia",
          "Palau",
          "Marshall Islands",
          "Kiribati",
          "Nauru",
          "Tuvalu",
          "Afghanistan",
          "Bermuda",
          "British Virgin Islands",
          "Cayman Islands",
          "Cook Islands",
          "Cuba",
          "French Polynesia",
          "Palestine",
          "Greenland",
          "North Korea",
          "Kosovo",
          "Lebanon",
          "Liechtenstein",
          "Monaco",
          "Montserrat",
          "Curacao",
          "Sint Maarten",
          "New Caledonia",
          "Pakistan",
          "Anguilla",
          "Sudan",
          "Syria",
          "Tunisia",
          "Turks and Caicos Islands",
          "Ukraine"
         ],
         "type": "choropleth",
         "z": [
          26.69515,
          21.865482,
          5.291351,
          4.564778,
          3.89367,
          3.686935,
          3.086226,
          2.362318,
          2.169384,
          1.980483,
          1.919562,
          1.828394,
          1.782602,
          1.713154,
          1.51909,
          1.410748,
          1.379727,
          1.072789,
          1.021905,
          0.892516,
          0.888199,
          0.755645,
          0.714305,
          0.669872,
          0.639716,
          0.580121,
          0.573633,
          0.562134,
          0.556372,
          0.549733,
          0.547765,
          0.518808,
          0.506234,
          0.481988,
          0.462644,
          0.450999,
          0.450361,
          0.44772,
          0.445827,
          0.438436,
          0.419266,
          0.391338,
          0.37047,
          0.351036,
          0.318938,
          0.314502,
          0.312694,
          0.299409,
          0.27672,
          0.267241,
          0.25796,
          0.234808,
          0.228356,
          0.225928,
          0.219463,
          0.199382,
          0.180665,
          0.142967,
          0.133335,
          0.131046,
          0.121068,
          0.120246,
          0.119127,
          0.116544,
          0.116247,
          0.11025,
          0.097798,
          0.095988,
          0.091773,
          0.087121,
          0.086152,
          0.084893,
          0.081809,
          0.080338,
          0.078893,
          0.076549,
          0.075992,
          0.075827,
          0.073543,
          0.072912,
          0.072587,
          0.071487,
          0.069888,
          0.06818,
          0.066988,
          0.060188,
          0.050461,
          0.0501,
          0.049823,
          0.049518,
          0.045421,
          0.045195,
          0.044856,
          0.044671,
          0.043351,
          0.043128,
          0.040102,
          0.039028,
          0.034654,
          0.032334,
          0.032223,
          0.032107,
          0.031661,
          0.030239,
          0.030137,
          0.029556,
          0.029476,
          0.027709,
          0.027708,
          0.02503,
          0.024971,
          0.0233,
          0.022945,
          0.022472,
          0.02128,
          0.021195,
          0.021191,
          0.021047,
          0.020029,
          0.019821,
          0.019519,
          0.019062,
          0.018627,
          0.017996,
          0.017303,
          0.016776,
          0.016377,
          0.016208,
          0.015842,
          0.015641,
          0.015546,
          0.015189,
          0.014956,
          0.014205,
          0.013752,
          0.01363,
          0.013517,
          0.01317,
          0.012538,
          0.011325,
          0.010771,
          0.009705,
          0.009539,
          0.009511,
          0.009185,
          0.007699,
          0.006679,
          0.006109,
          0.005926,
          0.005734,
          0.004945,
          0.004266,
          0.004199,
          0.004064,
          0.003686,
          0.00358,
          0.003395,
          0.003119,
          0.002881,
          0.002877,
          0.002777,
          0.002716,
          0.002341,
          0.002277,
          0.002178,
          0.002135,
          0.002035,
          0.001804,
          0.001802,
          0.001783,
          0.001777,
          0.001768,
          0.001386,
          0.001275,
          0.001216,
          0.001071,
          0.001043,
          0.000868,
          0.000695,
          0.000574,
          0.000569,
          0.000452,
          0.000296,
          0.000284,
          0.000233,
          0.000138,
          7.1e-05,
          0,
          0,
          0,
          0,
          0,
          0,
          0,
          0,
          0,
          0,
          0,
          0,
          0,
          0,
          0,
          0,
          0,
          0,
          0,
          0,
          0,
          0,
          0,
          0,
          0
         ]
        }
       ],
       "layout": {
        "geo": {
         "projection": {
          "type": "mercator"
         },
         "showframe": false
        },
        "template": {
         "data": {
          "bar": [
           {
            "error_x": {
             "color": "#2a3f5f"
            },
            "error_y": {
             "color": "#2a3f5f"
            },
            "marker": {
             "line": {
              "color": "#E5ECF6",
              "width": 0.5
             },
             "pattern": {
              "fillmode": "overlay",
              "size": 10,
              "solidity": 0.2
             }
            },
            "type": "bar"
           }
          ],
          "barpolar": [
           {
            "marker": {
             "line": {
              "color": "#E5ECF6",
              "width": 0.5
             },
             "pattern": {
              "fillmode": "overlay",
              "size": 10,
              "solidity": 0.2
             }
            },
            "type": "barpolar"
           }
          ],
          "carpet": [
           {
            "aaxis": {
             "endlinecolor": "#2a3f5f",
             "gridcolor": "white",
             "linecolor": "white",
             "minorgridcolor": "white",
             "startlinecolor": "#2a3f5f"
            },
            "baxis": {
             "endlinecolor": "#2a3f5f",
             "gridcolor": "white",
             "linecolor": "white",
             "minorgridcolor": "white",
             "startlinecolor": "#2a3f5f"
            },
            "type": "carpet"
           }
          ],
          "choropleth": [
           {
            "colorbar": {
             "outlinewidth": 0,
             "ticks": ""
            },
            "type": "choropleth"
           }
          ],
          "contour": [
           {
            "colorbar": {
             "outlinewidth": 0,
             "ticks": ""
            },
            "colorscale": [
             [
              0,
              "#0d0887"
             ],
             [
              0.1111111111111111,
              "#46039f"
             ],
             [
              0.2222222222222222,
              "#7201a8"
             ],
             [
              0.3333333333333333,
              "#9c179e"
             ],
             [
              0.4444444444444444,
              "#bd3786"
             ],
             [
              0.5555555555555556,
              "#d8576b"
             ],
             [
              0.6666666666666666,
              "#ed7953"
             ],
             [
              0.7777777777777778,
              "#fb9f3a"
             ],
             [
              0.8888888888888888,
              "#fdca26"
             ],
             [
              1,
              "#f0f921"
             ]
            ],
            "type": "contour"
           }
          ],
          "contourcarpet": [
           {
            "colorbar": {
             "outlinewidth": 0,
             "ticks": ""
            },
            "type": "contourcarpet"
           }
          ],
          "heatmap": [
           {
            "colorbar": {
             "outlinewidth": 0,
             "ticks": ""
            },
            "colorscale": [
             [
              0,
              "#0d0887"
             ],
             [
              0.1111111111111111,
              "#46039f"
             ],
             [
              0.2222222222222222,
              "#7201a8"
             ],
             [
              0.3333333333333333,
              "#9c179e"
             ],
             [
              0.4444444444444444,
              "#bd3786"
             ],
             [
              0.5555555555555556,
              "#d8576b"
             ],
             [
              0.6666666666666666,
              "#ed7953"
             ],
             [
              0.7777777777777778,
              "#fb9f3a"
             ],
             [
              0.8888888888888888,
              "#fdca26"
             ],
             [
              1,
              "#f0f921"
             ]
            ],
            "type": "heatmap"
           }
          ],
          "heatmapgl": [
           {
            "colorbar": {
             "outlinewidth": 0,
             "ticks": ""
            },
            "colorscale": [
             [
              0,
              "#0d0887"
             ],
             [
              0.1111111111111111,
              "#46039f"
             ],
             [
              0.2222222222222222,
              "#7201a8"
             ],
             [
              0.3333333333333333,
              "#9c179e"
             ],
             [
              0.4444444444444444,
              "#bd3786"
             ],
             [
              0.5555555555555556,
              "#d8576b"
             ],
             [
              0.6666666666666666,
              "#ed7953"
             ],
             [
              0.7777777777777778,
              "#fb9f3a"
             ],
             [
              0.8888888888888888,
              "#fdca26"
             ],
             [
              1,
              "#f0f921"
             ]
            ],
            "type": "heatmapgl"
           }
          ],
          "histogram": [
           {
            "marker": {
             "pattern": {
              "fillmode": "overlay",
              "size": 10,
              "solidity": 0.2
             }
            },
            "type": "histogram"
           }
          ],
          "histogram2d": [
           {
            "colorbar": {
             "outlinewidth": 0,
             "ticks": ""
            },
            "colorscale": [
             [
              0,
              "#0d0887"
             ],
             [
              0.1111111111111111,
              "#46039f"
             ],
             [
              0.2222222222222222,
              "#7201a8"
             ],
             [
              0.3333333333333333,
              "#9c179e"
             ],
             [
              0.4444444444444444,
              "#bd3786"
             ],
             [
              0.5555555555555556,
              "#d8576b"
             ],
             [
              0.6666666666666666,
              "#ed7953"
             ],
             [
              0.7777777777777778,
              "#fb9f3a"
             ],
             [
              0.8888888888888888,
              "#fdca26"
             ],
             [
              1,
              "#f0f921"
             ]
            ],
            "type": "histogram2d"
           }
          ],
          "histogram2dcontour": [
           {
            "colorbar": {
             "outlinewidth": 0,
             "ticks": ""
            },
            "colorscale": [
             [
              0,
              "#0d0887"
             ],
             [
              0.1111111111111111,
              "#46039f"
             ],
             [
              0.2222222222222222,
              "#7201a8"
             ],
             [
              0.3333333333333333,
              "#9c179e"
             ],
             [
              0.4444444444444444,
              "#bd3786"
             ],
             [
              0.5555555555555556,
              "#d8576b"
             ],
             [
              0.6666666666666666,
              "#ed7953"
             ],
             [
              0.7777777777777778,
              "#fb9f3a"
             ],
             [
              0.8888888888888888,
              "#fdca26"
             ],
             [
              1,
              "#f0f921"
             ]
            ],
            "type": "histogram2dcontour"
           }
          ],
          "mesh3d": [
           {
            "colorbar": {
             "outlinewidth": 0,
             "ticks": ""
            },
            "type": "mesh3d"
           }
          ],
          "parcoords": [
           {
            "line": {
             "colorbar": {
              "outlinewidth": 0,
              "ticks": ""
             }
            },
            "type": "parcoords"
           }
          ],
          "pie": [
           {
            "automargin": true,
            "type": "pie"
           }
          ],
          "scatter": [
           {
            "fillpattern": {
             "fillmode": "overlay",
             "size": 10,
             "solidity": 0.2
            },
            "type": "scatter"
           }
          ],
          "scatter3d": [
           {
            "line": {
             "colorbar": {
              "outlinewidth": 0,
              "ticks": ""
             }
            },
            "marker": {
             "colorbar": {
              "outlinewidth": 0,
              "ticks": ""
             }
            },
            "type": "scatter3d"
           }
          ],
          "scattercarpet": [
           {
            "marker": {
             "colorbar": {
              "outlinewidth": 0,
              "ticks": ""
             }
            },
            "type": "scattercarpet"
           }
          ],
          "scattergeo": [
           {
            "marker": {
             "colorbar": {
              "outlinewidth": 0,
              "ticks": ""
             }
            },
            "type": "scattergeo"
           }
          ],
          "scattergl": [
           {
            "marker": {
             "colorbar": {
              "outlinewidth": 0,
              "ticks": ""
             }
            },
            "type": "scattergl"
           }
          ],
          "scattermapbox": [
           {
            "marker": {
             "colorbar": {
              "outlinewidth": 0,
              "ticks": ""
             }
            },
            "type": "scattermapbox"
           }
          ],
          "scatterpolar": [
           {
            "marker": {
             "colorbar": {
              "outlinewidth": 0,
              "ticks": ""
             }
            },
            "type": "scatterpolar"
           }
          ],
          "scatterpolargl": [
           {
            "marker": {
             "colorbar": {
              "outlinewidth": 0,
              "ticks": ""
             }
            },
            "type": "scatterpolargl"
           }
          ],
          "scatterternary": [
           {
            "marker": {
             "colorbar": {
              "outlinewidth": 0,
              "ticks": ""
             }
            },
            "type": "scatterternary"
           }
          ],
          "surface": [
           {
            "colorbar": {
             "outlinewidth": 0,
             "ticks": ""
            },
            "colorscale": [
             [
              0,
              "#0d0887"
             ],
             [
              0.1111111111111111,
              "#46039f"
             ],
             [
              0.2222222222222222,
              "#7201a8"
             ],
             [
              0.3333333333333333,
              "#9c179e"
             ],
             [
              0.4444444444444444,
              "#bd3786"
             ],
             [
              0.5555555555555556,
              "#d8576b"
             ],
             [
              0.6666666666666666,
              "#ed7953"
             ],
             [
              0.7777777777777778,
              "#fb9f3a"
             ],
             [
              0.8888888888888888,
              "#fdca26"
             ],
             [
              1,
              "#f0f921"
             ]
            ],
            "type": "surface"
           }
          ],
          "table": [
           {
            "cells": {
             "fill": {
              "color": "#EBF0F8"
             },
             "line": {
              "color": "white"
             }
            },
            "header": {
             "fill": {
              "color": "#C8D4E3"
             },
             "line": {
              "color": "white"
             }
            },
            "type": "table"
           }
          ]
         },
         "layout": {
          "annotationdefaults": {
           "arrowcolor": "#2a3f5f",
           "arrowhead": 0,
           "arrowwidth": 1
          },
          "autotypenumbers": "strict",
          "coloraxis": {
           "colorbar": {
            "outlinewidth": 0,
            "ticks": ""
           }
          },
          "colorscale": {
           "diverging": [
            [
             0,
             "#8e0152"
            ],
            [
             0.1,
             "#c51b7d"
            ],
            [
             0.2,
             "#de77ae"
            ],
            [
             0.3,
             "#f1b6da"
            ],
            [
             0.4,
             "#fde0ef"
            ],
            [
             0.5,
             "#f7f7f7"
            ],
            [
             0.6,
             "#e6f5d0"
            ],
            [
             0.7,
             "#b8e186"
            ],
            [
             0.8,
             "#7fbc41"
            ],
            [
             0.9,
             "#4d9221"
            ],
            [
             1,
             "#276419"
            ]
           ],
           "sequential": [
            [
             0,
             "#0d0887"
            ],
            [
             0.1111111111111111,
             "#46039f"
            ],
            [
             0.2222222222222222,
             "#7201a8"
            ],
            [
             0.3333333333333333,
             "#9c179e"
            ],
            [
             0.4444444444444444,
             "#bd3786"
            ],
            [
             0.5555555555555556,
             "#d8576b"
            ],
            [
             0.6666666666666666,
             "#ed7953"
            ],
            [
             0.7777777777777778,
             "#fb9f3a"
            ],
            [
             0.8888888888888888,
             "#fdca26"
            ],
            [
             1,
             "#f0f921"
            ]
           ],
           "sequentialminus": [
            [
             0,
             "#0d0887"
            ],
            [
             0.1111111111111111,
             "#46039f"
            ],
            [
             0.2222222222222222,
             "#7201a8"
            ],
            [
             0.3333333333333333,
             "#9c179e"
            ],
            [
             0.4444444444444444,
             "#bd3786"
            ],
            [
             0.5555555555555556,
             "#d8576b"
            ],
            [
             0.6666666666666666,
             "#ed7953"
            ],
            [
             0.7777777777777778,
             "#fb9f3a"
            ],
            [
             0.8888888888888888,
             "#fdca26"
            ],
            [
             1,
             "#f0f921"
            ]
           ]
          },
          "colorway": [
           "#636efa",
           "#EF553B",
           "#00cc96",
           "#ab63fa",
           "#FFA15A",
           "#19d3f3",
           "#FF6692",
           "#B6E880",
           "#FF97FF",
           "#FECB52"
          ],
          "font": {
           "color": "#2a3f5f"
          },
          "geo": {
           "bgcolor": "white",
           "lakecolor": "white",
           "landcolor": "#E5ECF6",
           "showlakes": true,
           "showland": true,
           "subunitcolor": "white"
          },
          "hoverlabel": {
           "align": "left"
          },
          "hovermode": "closest",
          "mapbox": {
           "style": "light"
          },
          "paper_bgcolor": "white",
          "plot_bgcolor": "#E5ECF6",
          "polar": {
           "angularaxis": {
            "gridcolor": "white",
            "linecolor": "white",
            "ticks": ""
           },
           "bgcolor": "#E5ECF6",
           "radialaxis": {
            "gridcolor": "white",
            "linecolor": "white",
            "ticks": ""
           }
          },
          "scene": {
           "xaxis": {
            "backgroundcolor": "#E5ECF6",
            "gridcolor": "white",
            "gridwidth": 2,
            "linecolor": "white",
            "showbackground": true,
            "ticks": "",
            "zerolinecolor": "white"
           },
           "yaxis": {
            "backgroundcolor": "#E5ECF6",
            "gridcolor": "white",
            "gridwidth": 2,
            "linecolor": "white",
            "showbackground": true,
            "ticks": "",
            "zerolinecolor": "white"
           },
           "zaxis": {
            "backgroundcolor": "#E5ECF6",
            "gridcolor": "white",
            "gridwidth": 2,
            "linecolor": "white",
            "showbackground": true,
            "ticks": "",
            "zerolinecolor": "white"
           }
          },
          "shapedefaults": {
           "line": {
            "color": "#2a3f5f"
           }
          },
          "ternary": {
           "aaxis": {
            "gridcolor": "white",
            "linecolor": "white",
            "ticks": ""
           },
           "baxis": {
            "gridcolor": "white",
            "linecolor": "white",
            "ticks": ""
           },
           "bgcolor": "#E5ECF6",
           "caxis": {
            "gridcolor": "white",
            "linecolor": "white",
            "ticks": ""
           }
          },
          "title": {
           "x": 0.05
          },
          "xaxis": {
           "automargin": true,
           "gridcolor": "white",
           "linecolor": "white",
           "ticks": "",
           "title": {
            "standoff": 15
           },
           "zerolinecolor": "white",
           "zerolinewidth": 2
          },
          "yaxis": {
           "automargin": true,
           "gridcolor": "white",
           "linecolor": "white",
           "ticks": "",
           "title": {
            "standoff": 15
           },
           "zerolinecolor": "white",
           "zerolinewidth": 2
          }
         }
        },
        "title": {
         "text": "Global GDP 2022"
        }
       }
      },
      "text/html": [
       "<div>                            <div id=\"fd68b463-379c-4b93-aadf-ba2d0db6c6cb\" class=\"plotly-graph-div\" style=\"height:525px; width:100%;\"></div>            <script type=\"text/javascript\">                require([\"plotly\"], function(Plotly) {                    window.PLOTLYENV=window.PLOTLYENV || {};                                    if (document.getElementById(\"fd68b463-379c-4b93-aadf-ba2d0db6c6cb\")) {                    Plotly.newPlot(                        \"fd68b463-379c-4b93-aadf-ba2d0db6c6cb\",                        [{\"colorbar\":{\"title\":{\"text\":\"GDP k Billions US\"}},\"colorscale\":[[0.0,\"rgb(253, 237, 176)\"],[0.09090909090909091,\"rgb(250, 205, 145)\"],[0.18181818181818182,\"rgb(246, 173, 119)\"],[0.2727272727272727,\"rgb(240, 142, 98)\"],[0.36363636363636365,\"rgb(231, 109, 84)\"],[0.45454545454545453,\"rgb(216, 80, 83)\"],[0.5454545454545454,\"rgb(195, 56, 90)\"],[0.6363636363636364,\"rgb(168, 40, 96)\"],[0.7272727272727273,\"rgb(138, 29, 99)\"],[0.8181818181818182,\"rgb(107, 24, 93)\"],[0.9090909090909091,\"rgb(76, 21, 80)\"],[1.0,\"rgb(47, 15, 61)\"]],\"locationmode\":\"country names\",\"locations\":[\"United States\",\"China\",\"Japan\",\"Germany\",\"India\",\"United Kingdom\",\"France\",\"Canada\",\"Italy\",\"Brazil\",\"South Korea\",\"Australia\",\"Iran\",\"Russia\",\"Spain\",\"Indonesia\",\"Mexico\",\"Netherlands\",\"Saudi Arabia\",\"Taiwan\",\"Switzerland\",\"Poland\",\"Turkey\",\"Sweden\",\"Belgium\",\"Nigeria\",\"Argentina\",\"Ireland\",\"Thailand\",\"Norway\",\"Israel\",\"Austria\",\"United Arab Emirates\",\"Malaysia\",\"Vietnam\",\"Singapore\",\"Egypt\",\"South Africa\",\"Philippines\",\"Bangladesh\",\"Denmark\",\"Hong Kong\",\"Colombia\",\"Chile\",\"Czech Republic\",\"Finland\",\"Romania\",\"Iraq\",\"New Zealand\",\"Portugal\",\"Peru\",\"Greece\",\"Qatar\",\"Kazakhstan\",\"Hungary\",\"Algeria\",\"Kuwait\",\"Morocco\",\"Angola\",\"Slovakia\",\"Puerto Rico\",\"Ecuador\",\"Kenya\",\"Dominican Republic\",\"Ethiopia\",\"Oman\",\"Bulgaria\",\"Guatemala\",\"Luxembourg\",\"Sri Lanka\",\"Tanzania\",\"Turkmenistan\",\"Uzbekistan\",\"Ivory Coast\",\"Ghana\",\"Panama\",\"Lithuania\",\"Croatia\",\"Myanmar\",\"Azerbaijan\",\"Serbia\",\"DR Congo\",\"Slovenia\",\"Costa Rica\",\"Uruguay\",\"Belarus\",\"Jordan\",\"Uganda\",\"Venezuela\",\"Cameroon\",\"Bahrain\",\"Libya\",\"Macau\",\"Paraguay\",\"Bolivia\",\"Latvia\",\"Estonia\",\"Nepal\",\"Zimbabwe\",\"Papua New Guinea\",\"El Salvador\",\"Senegal\",\"Honduras\",\"Cambodia\",\"Cyprus\",\"Yemen\",\"Iceland\",\"Zambia\",\"Brunei\",\"Trinidad and Tobago\",\"Bosnia and Herzegovina\",\"Georgia\",\"Guinea\",\"Gabon\",\"Burkina Faso\",\"Haiti\",\"Mali\",\"Mongolia\",\"Benin\",\"Botswana\",\"Mozambique\",\"Albania\",\"Malta\",\"Laos\",\"Niger\",\"Nicaragua\",\"Guyana\",\"Jamaica\",\"Armenia\",\"Republic of the Congo\",\"North Macedonia\",\"Madagascar\",\"Equatorial Guinea\",\"Namibia\",\"Moldova\",\"Bahamas\",\"Chad\",\"Rwanda\",\"Mauritius\",\"Malawi\",\"South Sudan\",\"Mauritania\",\"Togo\",\"Kyrgyzstan\",\"Somalia\",\"Tajikistan\",\"Montenegro\",\"Maldives\",\"Barbados\",\"Fiji\",\"Eswatini\",\"Sierra Leone\",\"Djibouti\",\"Liberia\",\"Burundi\",\"Andorra\",\"Aruba\",\"Suriname\",\"Bhutan\",\"Central African Republic\",\"Eritrea\",\"Lesotho\",\"Gambia\",\"Saint Lucia\",\"Cape Verde\",\"Belize\",\"Timor-Leste\",\"Seychelles\",\"Guinea-Bissau\",\"Solomon Islands\",\"San Marino\",\"Antigua and Barbuda\",\"Comoros\",\"Grenada\",\"Saint Kitts and Nevis\",\"Vanuatu\",\"Saint Vincent and the Grenadines\",\"Samoa\",\"Dominica\",\"Tonga\",\"Sao Tome and Principe\",\"Micronesia\",\"Palau\",\"Marshall Islands\",\"Kiribati\",\"Nauru\",\"Tuvalu\",\"Afghanistan\",\"Bermuda\",\"British Virgin Islands\",\"Cayman Islands\",\"Cook Islands\",\"Cuba\",\"French Polynesia\",\"Palestine\",\"Greenland\",\"North Korea\",\"Kosovo\",\"Lebanon\",\"Liechtenstein\",\"Monaco\",\"Montserrat\",\"Curacao\",\"Sint Maarten\",\"New Caledonia\",\"Pakistan\",\"Anguilla\",\"Sudan\",\"Syria\",\"Tunisia\",\"Turks and Caicos Islands\",\"Ukraine\"],\"text\":[\"United States\",\"China\",\"Japan\",\"Germany\",\"India\",\"United Kingdom\",\"France\",\"Canada\",\"Italy\",\"Brazil\",\"South Korea\",\"Australia\",\"Iran\",\"Russia\",\"Spain\",\"Indonesia\",\"Mexico\",\"Netherlands\",\"Saudi Arabia\",\"Taiwan\",\"Switzerland\",\"Poland\",\"Turkey\",\"Sweden\",\"Belgium\",\"Nigeria\",\"Argentina\",\"Ireland\",\"Thailand\",\"Norway\",\"Israel\",\"Austria\",\"United Arab Emirates\",\"Malaysia\",\"Vietnam\",\"Singapore\",\"Egypt\",\"South Africa\",\"Philippines\",\"Bangladesh\",\"Denmark\",\"Hong Kong\",\"Colombia\",\"Chile\",\"Czech Republic\",\"Finland\",\"Romania\",\"Iraq\",\"New Zealand\",\"Portugal\",\"Peru\",\"Greece\",\"Qatar\",\"Kazakhstan\",\"Hungary\",\"Algeria\",\"Kuwait\",\"Morocco\",\"Angola\",\"Slovakia\",\"Puerto Rico\",\"Ecuador\",\"Kenya\",\"Dominican Republic\",\"Ethiopia\",\"Oman\",\"Bulgaria\",\"Guatemala\",\"Luxembourg\",\"Sri Lanka\",\"Tanzania\",\"Turkmenistan\",\"Uzbekistan\",\"Ivory Coast\",\"Ghana\",\"Panama\",\"Lithuania\",\"Croatia\",\"Myanmar\",\"Azerbaijan\",\"Serbia\",\"DR Congo\",\"Slovenia\",\"Costa Rica\",\"Uruguay\",\"Belarus\",\"Jordan\",\"Uganda\",\"Venezuela\",\"Cameroon\",\"Bahrain\",\"Libya\",\"Macau\",\"Paraguay\",\"Bolivia\",\"Latvia\",\"Estonia\",\"Nepal\",\"Zimbabwe\",\"Papua New Guinea\",\"El Salvador\",\"Senegal\",\"Honduras\",\"Cambodia\",\"Cyprus\",\"Yemen\",\"Iceland\",\"Zambia\",\"Brunei\",\"Trinidad and Tobago\",\"Bosnia and Herzegovina\",\"Georgia\",\"Guinea\",\"Gabon\",\"Burkina Faso\",\"Haiti\",\"Mali\",\"Mongolia\",\"Benin\",\"Botswana\",\"Mozambique\",\"Albania\",\"Malta\",\"Laos\",\"Niger\",\"Nicaragua\",\"Guyana\",\"Jamaica\",\"Armenia\",\"Republic of the Congo\",\"North Macedonia\",\"Madagascar\",\"Equatorial Guinea\",\"Namibia\",\"Moldova\",\"Bahamas\",\"Chad\",\"Rwanda\",\"Mauritius\",\"Malawi\",\"South Sudan\",\"Mauritania\",\"Togo\",\"Kyrgyzstan\",\"Somalia\",\"Tajikistan\",\"Montenegro\",\"Maldives\",\"Barbados\",\"Fiji\",\"Eswatini\",\"Sierra Leone\",\"Djibouti\",\"Liberia\",\"Burundi\",\"Andorra\",\"Aruba\",\"Suriname\",\"Bhutan\",\"Central African Republic\",\"Eritrea\",\"Lesotho\",\"Gambia\",\"Saint Lucia\",\"Cape Verde\",\"Belize\",\"Timor-Leste\",\"Seychelles\",\"Guinea-Bissau\",\"Solomon Islands\",\"San Marino\",\"Antigua and Barbuda\",\"Comoros\",\"Grenada\",\"Saint Kitts and Nevis\",\"Vanuatu\",\"Saint Vincent and the Grenadines\",\"Samoa\",\"Dominica\",\"Tonga\",\"Sao Tome and Principe\",\"Micronesia\",\"Palau\",\"Marshall Islands\",\"Kiribati\",\"Nauru\",\"Tuvalu\",\"Afghanistan\",\"Bermuda\",\"British Virgin Islands\",\"Cayman Islands\",\"Cook Islands\",\"Cuba\",\"French Polynesia\",\"Palestine\",\"Greenland\",\"North Korea\",\"Kosovo\",\"Lebanon\",\"Liechtenstein\",\"Monaco\",\"Montserrat\",\"Curacao\",\"Sint Maarten\",\"New Caledonia\",\"Pakistan\",\"Anguilla\",\"Sudan\",\"Syria\",\"Tunisia\",\"Turks and Caicos Islands\",\"Ukraine\"],\"z\":[26.69515,21.865482,5.291351,4.564778,3.89367,3.686935,3.086226,2.362318,2.169384,1.980483,1.919562,1.828394,1.782602,1.713154,1.51909,1.410748,1.379727,1.072789,1.021905,0.892516,0.888199,0.755645,0.714305,0.669872,0.639716,0.580121,0.573633,0.562134,0.556372,0.549733,0.547765,0.518808,0.506234,0.481988,0.462644,0.450999,0.450361,0.44772,0.445827,0.438436,0.419266,0.391338,0.37047,0.351036,0.318938,0.314502,0.312694,0.299409,0.27672,0.267241,0.25796,0.234808,0.228356,0.225928,0.219463,0.199382,0.180665,0.142967,0.133335,0.131046,0.121068,0.120246,0.119127,0.116544,0.116247,0.11025,0.097798,0.095988,0.091773,0.087121,0.086152,0.084893,0.081809,0.080338,0.078893,0.076549,0.075992,0.075827,0.073543,0.072912,0.072587,0.071487,0.069888,0.06818,0.066988,0.060188,0.050461,0.0501,0.049823,0.049518,0.045421,0.045195,0.044856,0.044671,0.043351,0.043128,0.040102,0.039028,0.034654,0.032334,0.032223,0.032107,0.031661,0.030239,0.030137,0.029556,0.029476,0.027709,0.027708,0.02503,0.024971,0.0233,0.022945,0.022472,0.02128,0.021195,0.021191,0.021047,0.020029,0.019821,0.019519,0.019062,0.018627,0.017996,0.017303,0.016776,0.016377,0.016208,0.015842,0.015641,0.015546,0.015189,0.014956,0.014205,0.013752,0.01363,0.013517,0.01317,0.012538,0.011325,0.010771,0.009705,0.009539,0.009511,0.009185,0.007699,0.006679,0.006109,0.005926,0.005734,0.004945,0.004266,0.004199,0.004064,0.003686,0.00358,0.003395,0.003119,0.002881,0.002877,0.002777,0.002716,0.002341,0.002277,0.002178,0.002135,0.002035,0.001804,0.001802,0.001783,0.001777,0.001768,0.001386,0.001275,0.001216,0.001071,0.001043,0.000868,0.000695,0.000574,0.000569,0.000452,0.000296,0.000284,0.000233,0.000138,7.1e-05,0.0,0.0,0.0,0.0,0.0,0.0,0.0,0.0,0.0,0.0,0.0,0.0,0.0,0.0,0.0,0.0,0.0,0.0,0.0,0.0,0.0,0.0,0.0,0.0,0.0],\"type\":\"choropleth\"}],                        {\"geo\":{\"projection\":{\"type\":\"mercator\"},\"showframe\":false},\"template\":{\"data\":{\"barpolar\":[{\"marker\":{\"line\":{\"color\":\"#E5ECF6\",\"width\":0.5},\"pattern\":{\"fillmode\":\"overlay\",\"size\":10,\"solidity\":0.2}},\"type\":\"barpolar\"}],\"bar\":[{\"error_x\":{\"color\":\"#2a3f5f\"},\"error_y\":{\"color\":\"#2a3f5f\"},\"marker\":{\"line\":{\"color\":\"#E5ECF6\",\"width\":0.5},\"pattern\":{\"fillmode\":\"overlay\",\"size\":10,\"solidity\":0.2}},\"type\":\"bar\"}],\"carpet\":[{\"aaxis\":{\"endlinecolor\":\"#2a3f5f\",\"gridcolor\":\"white\",\"linecolor\":\"white\",\"minorgridcolor\":\"white\",\"startlinecolor\":\"#2a3f5f\"},\"baxis\":{\"endlinecolor\":\"#2a3f5f\",\"gridcolor\":\"white\",\"linecolor\":\"white\",\"minorgridcolor\":\"white\",\"startlinecolor\":\"#2a3f5f\"},\"type\":\"carpet\"}],\"choropleth\":[{\"colorbar\":{\"outlinewidth\":0,\"ticks\":\"\"},\"type\":\"choropleth\"}],\"contourcarpet\":[{\"colorbar\":{\"outlinewidth\":0,\"ticks\":\"\"},\"type\":\"contourcarpet\"}],\"contour\":[{\"colorbar\":{\"outlinewidth\":0,\"ticks\":\"\"},\"colorscale\":[[0.0,\"#0d0887\"],[0.1111111111111111,\"#46039f\"],[0.2222222222222222,\"#7201a8\"],[0.3333333333333333,\"#9c179e\"],[0.4444444444444444,\"#bd3786\"],[0.5555555555555556,\"#d8576b\"],[0.6666666666666666,\"#ed7953\"],[0.7777777777777778,\"#fb9f3a\"],[0.8888888888888888,\"#fdca26\"],[1.0,\"#f0f921\"]],\"type\":\"contour\"}],\"heatmapgl\":[{\"colorbar\":{\"outlinewidth\":0,\"ticks\":\"\"},\"colorscale\":[[0.0,\"#0d0887\"],[0.1111111111111111,\"#46039f\"],[0.2222222222222222,\"#7201a8\"],[0.3333333333333333,\"#9c179e\"],[0.4444444444444444,\"#bd3786\"],[0.5555555555555556,\"#d8576b\"],[0.6666666666666666,\"#ed7953\"],[0.7777777777777778,\"#fb9f3a\"],[0.8888888888888888,\"#fdca26\"],[1.0,\"#f0f921\"]],\"type\":\"heatmapgl\"}],\"heatmap\":[{\"colorbar\":{\"outlinewidth\":0,\"ticks\":\"\"},\"colorscale\":[[0.0,\"#0d0887\"],[0.1111111111111111,\"#46039f\"],[0.2222222222222222,\"#7201a8\"],[0.3333333333333333,\"#9c179e\"],[0.4444444444444444,\"#bd3786\"],[0.5555555555555556,\"#d8576b\"],[0.6666666666666666,\"#ed7953\"],[0.7777777777777778,\"#fb9f3a\"],[0.8888888888888888,\"#fdca26\"],[1.0,\"#f0f921\"]],\"type\":\"heatmap\"}],\"histogram2dcontour\":[{\"colorbar\":{\"outlinewidth\":0,\"ticks\":\"\"},\"colorscale\":[[0.0,\"#0d0887\"],[0.1111111111111111,\"#46039f\"],[0.2222222222222222,\"#7201a8\"],[0.3333333333333333,\"#9c179e\"],[0.4444444444444444,\"#bd3786\"],[0.5555555555555556,\"#d8576b\"],[0.6666666666666666,\"#ed7953\"],[0.7777777777777778,\"#fb9f3a\"],[0.8888888888888888,\"#fdca26\"],[1.0,\"#f0f921\"]],\"type\":\"histogram2dcontour\"}],\"histogram2d\":[{\"colorbar\":{\"outlinewidth\":0,\"ticks\":\"\"},\"colorscale\":[[0.0,\"#0d0887\"],[0.1111111111111111,\"#46039f\"],[0.2222222222222222,\"#7201a8\"],[0.3333333333333333,\"#9c179e\"],[0.4444444444444444,\"#bd3786\"],[0.5555555555555556,\"#d8576b\"],[0.6666666666666666,\"#ed7953\"],[0.7777777777777778,\"#fb9f3a\"],[0.8888888888888888,\"#fdca26\"],[1.0,\"#f0f921\"]],\"type\":\"histogram2d\"}],\"histogram\":[{\"marker\":{\"pattern\":{\"fillmode\":\"overlay\",\"size\":10,\"solidity\":0.2}},\"type\":\"histogram\"}],\"mesh3d\":[{\"colorbar\":{\"outlinewidth\":0,\"ticks\":\"\"},\"type\":\"mesh3d\"}],\"parcoords\":[{\"line\":{\"colorbar\":{\"outlinewidth\":0,\"ticks\":\"\"}},\"type\":\"parcoords\"}],\"pie\":[{\"automargin\":true,\"type\":\"pie\"}],\"scatter3d\":[{\"line\":{\"colorbar\":{\"outlinewidth\":0,\"ticks\":\"\"}},\"marker\":{\"colorbar\":{\"outlinewidth\":0,\"ticks\":\"\"}},\"type\":\"scatter3d\"}],\"scattercarpet\":[{\"marker\":{\"colorbar\":{\"outlinewidth\":0,\"ticks\":\"\"}},\"type\":\"scattercarpet\"}],\"scattergeo\":[{\"marker\":{\"colorbar\":{\"outlinewidth\":0,\"ticks\":\"\"}},\"type\":\"scattergeo\"}],\"scattergl\":[{\"marker\":{\"colorbar\":{\"outlinewidth\":0,\"ticks\":\"\"}},\"type\":\"scattergl\"}],\"scattermapbox\":[{\"marker\":{\"colorbar\":{\"outlinewidth\":0,\"ticks\":\"\"}},\"type\":\"scattermapbox\"}],\"scatterpolargl\":[{\"marker\":{\"colorbar\":{\"outlinewidth\":0,\"ticks\":\"\"}},\"type\":\"scatterpolargl\"}],\"scatterpolar\":[{\"marker\":{\"colorbar\":{\"outlinewidth\":0,\"ticks\":\"\"}},\"type\":\"scatterpolar\"}],\"scatter\":[{\"fillpattern\":{\"fillmode\":\"overlay\",\"size\":10,\"solidity\":0.2},\"type\":\"scatter\"}],\"scatterternary\":[{\"marker\":{\"colorbar\":{\"outlinewidth\":0,\"ticks\":\"\"}},\"type\":\"scatterternary\"}],\"surface\":[{\"colorbar\":{\"outlinewidth\":0,\"ticks\":\"\"},\"colorscale\":[[0.0,\"#0d0887\"],[0.1111111111111111,\"#46039f\"],[0.2222222222222222,\"#7201a8\"],[0.3333333333333333,\"#9c179e\"],[0.4444444444444444,\"#bd3786\"],[0.5555555555555556,\"#d8576b\"],[0.6666666666666666,\"#ed7953\"],[0.7777777777777778,\"#fb9f3a\"],[0.8888888888888888,\"#fdca26\"],[1.0,\"#f0f921\"]],\"type\":\"surface\"}],\"table\":[{\"cells\":{\"fill\":{\"color\":\"#EBF0F8\"},\"line\":{\"color\":\"white\"}},\"header\":{\"fill\":{\"color\":\"#C8D4E3\"},\"line\":{\"color\":\"white\"}},\"type\":\"table\"}]},\"layout\":{\"annotationdefaults\":{\"arrowcolor\":\"#2a3f5f\",\"arrowhead\":0,\"arrowwidth\":1},\"autotypenumbers\":\"strict\",\"coloraxis\":{\"colorbar\":{\"outlinewidth\":0,\"ticks\":\"\"}},\"colorscale\":{\"diverging\":[[0,\"#8e0152\"],[0.1,\"#c51b7d\"],[0.2,\"#de77ae\"],[0.3,\"#f1b6da\"],[0.4,\"#fde0ef\"],[0.5,\"#f7f7f7\"],[0.6,\"#e6f5d0\"],[0.7,\"#b8e186\"],[0.8,\"#7fbc41\"],[0.9,\"#4d9221\"],[1,\"#276419\"]],\"sequential\":[[0.0,\"#0d0887\"],[0.1111111111111111,\"#46039f\"],[0.2222222222222222,\"#7201a8\"],[0.3333333333333333,\"#9c179e\"],[0.4444444444444444,\"#bd3786\"],[0.5555555555555556,\"#d8576b\"],[0.6666666666666666,\"#ed7953\"],[0.7777777777777778,\"#fb9f3a\"],[0.8888888888888888,\"#fdca26\"],[1.0,\"#f0f921\"]],\"sequentialminus\":[[0.0,\"#0d0887\"],[0.1111111111111111,\"#46039f\"],[0.2222222222222222,\"#7201a8\"],[0.3333333333333333,\"#9c179e\"],[0.4444444444444444,\"#bd3786\"],[0.5555555555555556,\"#d8576b\"],[0.6666666666666666,\"#ed7953\"],[0.7777777777777778,\"#fb9f3a\"],[0.8888888888888888,\"#fdca26\"],[1.0,\"#f0f921\"]]},\"colorway\":[\"#636efa\",\"#EF553B\",\"#00cc96\",\"#ab63fa\",\"#FFA15A\",\"#19d3f3\",\"#FF6692\",\"#B6E880\",\"#FF97FF\",\"#FECB52\"],\"font\":{\"color\":\"#2a3f5f\"},\"geo\":{\"bgcolor\":\"white\",\"lakecolor\":\"white\",\"landcolor\":\"#E5ECF6\",\"showlakes\":true,\"showland\":true,\"subunitcolor\":\"white\"},\"hoverlabel\":{\"align\":\"left\"},\"hovermode\":\"closest\",\"mapbox\":{\"style\":\"light\"},\"paper_bgcolor\":\"white\",\"plot_bgcolor\":\"#E5ECF6\",\"polar\":{\"angularaxis\":{\"gridcolor\":\"white\",\"linecolor\":\"white\",\"ticks\":\"\"},\"bgcolor\":\"#E5ECF6\",\"radialaxis\":{\"gridcolor\":\"white\",\"linecolor\":\"white\",\"ticks\":\"\"}},\"scene\":{\"xaxis\":{\"backgroundcolor\":\"#E5ECF6\",\"gridcolor\":\"white\",\"gridwidth\":2,\"linecolor\":\"white\",\"showbackground\":true,\"ticks\":\"\",\"zerolinecolor\":\"white\"},\"yaxis\":{\"backgroundcolor\":\"#E5ECF6\",\"gridcolor\":\"white\",\"gridwidth\":2,\"linecolor\":\"white\",\"showbackground\":true,\"ticks\":\"\",\"zerolinecolor\":\"white\"},\"zaxis\":{\"backgroundcolor\":\"#E5ECF6\",\"gridcolor\":\"white\",\"gridwidth\":2,\"linecolor\":\"white\",\"showbackground\":true,\"ticks\":\"\",\"zerolinecolor\":\"white\"}},\"shapedefaults\":{\"line\":{\"color\":\"#2a3f5f\"}},\"ternary\":{\"aaxis\":{\"gridcolor\":\"white\",\"linecolor\":\"white\",\"ticks\":\"\"},\"baxis\":{\"gridcolor\":\"white\",\"linecolor\":\"white\",\"ticks\":\"\"},\"bgcolor\":\"#E5ECF6\",\"caxis\":{\"gridcolor\":\"white\",\"linecolor\":\"white\",\"ticks\":\"\"}},\"title\":{\"x\":0.05},\"xaxis\":{\"automargin\":true,\"gridcolor\":\"white\",\"linecolor\":\"white\",\"ticks\":\"\",\"title\":{\"standoff\":15},\"zerolinecolor\":\"white\",\"zerolinewidth\":2},\"yaxis\":{\"automargin\":true,\"gridcolor\":\"white\",\"linecolor\":\"white\",\"ticks\":\"\",\"title\":{\"standoff\":15},\"zerolinecolor\":\"white\",\"zerolinewidth\":2}}},\"title\":{\"text\":\"Global GDP 2022\"}},                        {\"responsive\": true}                    ).then(function(){\n",
       "                            \n",
       "var gd = document.getElementById('fd68b463-379c-4b93-aadf-ba2d0db6c6cb');\n",
       "var x = new MutationObserver(function (mutations, observer) {{\n",
       "        var display = window.getComputedStyle(gd).display;\n",
       "        if (!display || display === 'none') {{\n",
       "            console.log([gd, 'removed!']);\n",
       "            Plotly.purge(gd);\n",
       "            observer.disconnect();\n",
       "        }}\n",
       "}});\n",
       "\n",
       "// Listen for the removal of the full notebook cells\n",
       "var notebookContainer = gd.closest('#notebook-container');\n",
       "if (notebookContainer) {{\n",
       "    x.observe(notebookContainer, {childList: true});\n",
       "}}\n",
       "\n",
       "// Listen for the clearing of the current output cell\n",
       "var outputEl = gd.closest('.output');\n",
       "if (outputEl) {{\n",
       "    x.observe(outputEl, {childList: true});\n",
       "}}\n",
       "\n",
       "                        })                };                });            </script>        </div>"
      ]
     },
     "metadata": {},
     "output_type": "display_data"
    }
   ],
   "source": [
    "choromap = go.Figure(data = [map_data],layout = map_layout)\n",
    "iplot(choromap)"
   ]
  },
  {
   "cell_type": "code",
   "execution_count": 12,
   "id": "f1ce6107",
   "metadata": {
    "scrolled": false
   },
   "outputs": [],
   "source": [
    "grouped = df.groupby('Continent')['IMF_GDP'].sum()"
   ]
  },
  {
   "cell_type": "code",
   "execution_count": 13,
   "id": "f51ddcc1",
   "metadata": {},
   "outputs": [
    {
     "data": {
      "text/plain": [
       "Continent\n",
       "Africa            3.099324\n",
       "Asia             43.840032\n",
       "Europe           26.457598\n",
       "North America    31.091977\n",
       "Oceania           2.148952\n",
       "Name: IMF_GDP, dtype: float64"
      ]
     },
     "execution_count": 13,
     "metadata": {},
     "output_type": "execute_result"
    }
   ],
   "source": [
    "grouped.head()"
   ]
  },
  {
   "cell_type": "code",
   "execution_count": 14,
   "id": "d0730bb6",
   "metadata": {
    "scrolled": false
   },
   "outputs": [
    {
     "data": {
      "application/vnd.plotly.v1+json": {
       "config": {
        "linkText": "Export to plot.ly",
        "plotlyServerURL": "https://plot.ly",
        "showLink": true
       },
       "data": [
        {
         "marker": {
          "color": "rgba(255, 153, 51, 0.6)",
          "line": {
           "color": "rgba(255, 153, 51, 1.0)",
           "width": 1
          }
         },
         "name": "IMF_GDP",
         "orientation": "v",
         "text": "",
         "type": "bar",
         "x": [
          "Asia",
          "North America",
          "Europe",
          "South America",
          "Africa",
          "Oceania"
         ],
         "y": [
          43.840032,
          31.091977000000004,
          26.457598,
          3.878157,
          3.099324,
          2.148952
         ]
        }
       ],
       "layout": {
        "legend": {
         "bgcolor": "#F5F6F9",
         "font": {
          "color": "#4D5663"
         }
        },
        "paper_bgcolor": "#F5F6F9",
        "plot_bgcolor": "#F5F6F9",
        "template": {
         "data": {
          "bar": [
           {
            "error_x": {
             "color": "#2a3f5f"
            },
            "error_y": {
             "color": "#2a3f5f"
            },
            "marker": {
             "line": {
              "color": "#E5ECF6",
              "width": 0.5
             },
             "pattern": {
              "fillmode": "overlay",
              "size": 10,
              "solidity": 0.2
             }
            },
            "type": "bar"
           }
          ],
          "barpolar": [
           {
            "marker": {
             "line": {
              "color": "#E5ECF6",
              "width": 0.5
             },
             "pattern": {
              "fillmode": "overlay",
              "size": 10,
              "solidity": 0.2
             }
            },
            "type": "barpolar"
           }
          ],
          "carpet": [
           {
            "aaxis": {
             "endlinecolor": "#2a3f5f",
             "gridcolor": "white",
             "linecolor": "white",
             "minorgridcolor": "white",
             "startlinecolor": "#2a3f5f"
            },
            "baxis": {
             "endlinecolor": "#2a3f5f",
             "gridcolor": "white",
             "linecolor": "white",
             "minorgridcolor": "white",
             "startlinecolor": "#2a3f5f"
            },
            "type": "carpet"
           }
          ],
          "choropleth": [
           {
            "colorbar": {
             "outlinewidth": 0,
             "ticks": ""
            },
            "type": "choropleth"
           }
          ],
          "contour": [
           {
            "colorbar": {
             "outlinewidth": 0,
             "ticks": ""
            },
            "colorscale": [
             [
              0,
              "#0d0887"
             ],
             [
              0.1111111111111111,
              "#46039f"
             ],
             [
              0.2222222222222222,
              "#7201a8"
             ],
             [
              0.3333333333333333,
              "#9c179e"
             ],
             [
              0.4444444444444444,
              "#bd3786"
             ],
             [
              0.5555555555555556,
              "#d8576b"
             ],
             [
              0.6666666666666666,
              "#ed7953"
             ],
             [
              0.7777777777777778,
              "#fb9f3a"
             ],
             [
              0.8888888888888888,
              "#fdca26"
             ],
             [
              1,
              "#f0f921"
             ]
            ],
            "type": "contour"
           }
          ],
          "contourcarpet": [
           {
            "colorbar": {
             "outlinewidth": 0,
             "ticks": ""
            },
            "type": "contourcarpet"
           }
          ],
          "heatmap": [
           {
            "colorbar": {
             "outlinewidth": 0,
             "ticks": ""
            },
            "colorscale": [
             [
              0,
              "#0d0887"
             ],
             [
              0.1111111111111111,
              "#46039f"
             ],
             [
              0.2222222222222222,
              "#7201a8"
             ],
             [
              0.3333333333333333,
              "#9c179e"
             ],
             [
              0.4444444444444444,
              "#bd3786"
             ],
             [
              0.5555555555555556,
              "#d8576b"
             ],
             [
              0.6666666666666666,
              "#ed7953"
             ],
             [
              0.7777777777777778,
              "#fb9f3a"
             ],
             [
              0.8888888888888888,
              "#fdca26"
             ],
             [
              1,
              "#f0f921"
             ]
            ],
            "type": "heatmap"
           }
          ],
          "heatmapgl": [
           {
            "colorbar": {
             "outlinewidth": 0,
             "ticks": ""
            },
            "colorscale": [
             [
              0,
              "#0d0887"
             ],
             [
              0.1111111111111111,
              "#46039f"
             ],
             [
              0.2222222222222222,
              "#7201a8"
             ],
             [
              0.3333333333333333,
              "#9c179e"
             ],
             [
              0.4444444444444444,
              "#bd3786"
             ],
             [
              0.5555555555555556,
              "#d8576b"
             ],
             [
              0.6666666666666666,
              "#ed7953"
             ],
             [
              0.7777777777777778,
              "#fb9f3a"
             ],
             [
              0.8888888888888888,
              "#fdca26"
             ],
             [
              1,
              "#f0f921"
             ]
            ],
            "type": "heatmapgl"
           }
          ],
          "histogram": [
           {
            "marker": {
             "pattern": {
              "fillmode": "overlay",
              "size": 10,
              "solidity": 0.2
             }
            },
            "type": "histogram"
           }
          ],
          "histogram2d": [
           {
            "colorbar": {
             "outlinewidth": 0,
             "ticks": ""
            },
            "colorscale": [
             [
              0,
              "#0d0887"
             ],
             [
              0.1111111111111111,
              "#46039f"
             ],
             [
              0.2222222222222222,
              "#7201a8"
             ],
             [
              0.3333333333333333,
              "#9c179e"
             ],
             [
              0.4444444444444444,
              "#bd3786"
             ],
             [
              0.5555555555555556,
              "#d8576b"
             ],
             [
              0.6666666666666666,
              "#ed7953"
             ],
             [
              0.7777777777777778,
              "#fb9f3a"
             ],
             [
              0.8888888888888888,
              "#fdca26"
             ],
             [
              1,
              "#f0f921"
             ]
            ],
            "type": "histogram2d"
           }
          ],
          "histogram2dcontour": [
           {
            "colorbar": {
             "outlinewidth": 0,
             "ticks": ""
            },
            "colorscale": [
             [
              0,
              "#0d0887"
             ],
             [
              0.1111111111111111,
              "#46039f"
             ],
             [
              0.2222222222222222,
              "#7201a8"
             ],
             [
              0.3333333333333333,
              "#9c179e"
             ],
             [
              0.4444444444444444,
              "#bd3786"
             ],
             [
              0.5555555555555556,
              "#d8576b"
             ],
             [
              0.6666666666666666,
              "#ed7953"
             ],
             [
              0.7777777777777778,
              "#fb9f3a"
             ],
             [
              0.8888888888888888,
              "#fdca26"
             ],
             [
              1,
              "#f0f921"
             ]
            ],
            "type": "histogram2dcontour"
           }
          ],
          "mesh3d": [
           {
            "colorbar": {
             "outlinewidth": 0,
             "ticks": ""
            },
            "type": "mesh3d"
           }
          ],
          "parcoords": [
           {
            "line": {
             "colorbar": {
              "outlinewidth": 0,
              "ticks": ""
             }
            },
            "type": "parcoords"
           }
          ],
          "pie": [
           {
            "automargin": true,
            "type": "pie"
           }
          ],
          "scatter": [
           {
            "fillpattern": {
             "fillmode": "overlay",
             "size": 10,
             "solidity": 0.2
            },
            "type": "scatter"
           }
          ],
          "scatter3d": [
           {
            "line": {
             "colorbar": {
              "outlinewidth": 0,
              "ticks": ""
             }
            },
            "marker": {
             "colorbar": {
              "outlinewidth": 0,
              "ticks": ""
             }
            },
            "type": "scatter3d"
           }
          ],
          "scattercarpet": [
           {
            "marker": {
             "colorbar": {
              "outlinewidth": 0,
              "ticks": ""
             }
            },
            "type": "scattercarpet"
           }
          ],
          "scattergeo": [
           {
            "marker": {
             "colorbar": {
              "outlinewidth": 0,
              "ticks": ""
             }
            },
            "type": "scattergeo"
           }
          ],
          "scattergl": [
           {
            "marker": {
             "colorbar": {
              "outlinewidth": 0,
              "ticks": ""
             }
            },
            "type": "scattergl"
           }
          ],
          "scattermapbox": [
           {
            "marker": {
             "colorbar": {
              "outlinewidth": 0,
              "ticks": ""
             }
            },
            "type": "scattermapbox"
           }
          ],
          "scatterpolar": [
           {
            "marker": {
             "colorbar": {
              "outlinewidth": 0,
              "ticks": ""
             }
            },
            "type": "scatterpolar"
           }
          ],
          "scatterpolargl": [
           {
            "marker": {
             "colorbar": {
              "outlinewidth": 0,
              "ticks": ""
             }
            },
            "type": "scatterpolargl"
           }
          ],
          "scatterternary": [
           {
            "marker": {
             "colorbar": {
              "outlinewidth": 0,
              "ticks": ""
             }
            },
            "type": "scatterternary"
           }
          ],
          "surface": [
           {
            "colorbar": {
             "outlinewidth": 0,
             "ticks": ""
            },
            "colorscale": [
             [
              0,
              "#0d0887"
             ],
             [
              0.1111111111111111,
              "#46039f"
             ],
             [
              0.2222222222222222,
              "#7201a8"
             ],
             [
              0.3333333333333333,
              "#9c179e"
             ],
             [
              0.4444444444444444,
              "#bd3786"
             ],
             [
              0.5555555555555556,
              "#d8576b"
             ],
             [
              0.6666666666666666,
              "#ed7953"
             ],
             [
              0.7777777777777778,
              "#fb9f3a"
             ],
             [
              0.8888888888888888,
              "#fdca26"
             ],
             [
              1,
              "#f0f921"
             ]
            ],
            "type": "surface"
           }
          ],
          "table": [
           {
            "cells": {
             "fill": {
              "color": "#EBF0F8"
             },
             "line": {
              "color": "white"
             }
            },
            "header": {
             "fill": {
              "color": "#C8D4E3"
             },
             "line": {
              "color": "white"
             }
            },
            "type": "table"
           }
          ]
         },
         "layout": {
          "annotationdefaults": {
           "arrowcolor": "#2a3f5f",
           "arrowhead": 0,
           "arrowwidth": 1
          },
          "autotypenumbers": "strict",
          "coloraxis": {
           "colorbar": {
            "outlinewidth": 0,
            "ticks": ""
           }
          },
          "colorscale": {
           "diverging": [
            [
             0,
             "#8e0152"
            ],
            [
             0.1,
             "#c51b7d"
            ],
            [
             0.2,
             "#de77ae"
            ],
            [
             0.3,
             "#f1b6da"
            ],
            [
             0.4,
             "#fde0ef"
            ],
            [
             0.5,
             "#f7f7f7"
            ],
            [
             0.6,
             "#e6f5d0"
            ],
            [
             0.7,
             "#b8e186"
            ],
            [
             0.8,
             "#7fbc41"
            ],
            [
             0.9,
             "#4d9221"
            ],
            [
             1,
             "#276419"
            ]
           ],
           "sequential": [
            [
             0,
             "#0d0887"
            ],
            [
             0.1111111111111111,
             "#46039f"
            ],
            [
             0.2222222222222222,
             "#7201a8"
            ],
            [
             0.3333333333333333,
             "#9c179e"
            ],
            [
             0.4444444444444444,
             "#bd3786"
            ],
            [
             0.5555555555555556,
             "#d8576b"
            ],
            [
             0.6666666666666666,
             "#ed7953"
            ],
            [
             0.7777777777777778,
             "#fb9f3a"
            ],
            [
             0.8888888888888888,
             "#fdca26"
            ],
            [
             1,
             "#f0f921"
            ]
           ],
           "sequentialminus": [
            [
             0,
             "#0d0887"
            ],
            [
             0.1111111111111111,
             "#46039f"
            ],
            [
             0.2222222222222222,
             "#7201a8"
            ],
            [
             0.3333333333333333,
             "#9c179e"
            ],
            [
             0.4444444444444444,
             "#bd3786"
            ],
            [
             0.5555555555555556,
             "#d8576b"
            ],
            [
             0.6666666666666666,
             "#ed7953"
            ],
            [
             0.7777777777777778,
             "#fb9f3a"
            ],
            [
             0.8888888888888888,
             "#fdca26"
            ],
            [
             1,
             "#f0f921"
            ]
           ]
          },
          "colorway": [
           "#636efa",
           "#EF553B",
           "#00cc96",
           "#ab63fa",
           "#FFA15A",
           "#19d3f3",
           "#FF6692",
           "#B6E880",
           "#FF97FF",
           "#FECB52"
          ],
          "font": {
           "color": "#2a3f5f"
          },
          "geo": {
           "bgcolor": "white",
           "lakecolor": "white",
           "landcolor": "#E5ECF6",
           "showlakes": true,
           "showland": true,
           "subunitcolor": "white"
          },
          "hoverlabel": {
           "align": "left"
          },
          "hovermode": "closest",
          "mapbox": {
           "style": "light"
          },
          "paper_bgcolor": "white",
          "plot_bgcolor": "#E5ECF6",
          "polar": {
           "angularaxis": {
            "gridcolor": "white",
            "linecolor": "white",
            "ticks": ""
           },
           "bgcolor": "#E5ECF6",
           "radialaxis": {
            "gridcolor": "white",
            "linecolor": "white",
            "ticks": ""
           }
          },
          "scene": {
           "xaxis": {
            "backgroundcolor": "#E5ECF6",
            "gridcolor": "white",
            "gridwidth": 2,
            "linecolor": "white",
            "showbackground": true,
            "ticks": "",
            "zerolinecolor": "white"
           },
           "yaxis": {
            "backgroundcolor": "#E5ECF6",
            "gridcolor": "white",
            "gridwidth": 2,
            "linecolor": "white",
            "showbackground": true,
            "ticks": "",
            "zerolinecolor": "white"
           },
           "zaxis": {
            "backgroundcolor": "#E5ECF6",
            "gridcolor": "white",
            "gridwidth": 2,
            "linecolor": "white",
            "showbackground": true,
            "ticks": "",
            "zerolinecolor": "white"
           }
          },
          "shapedefaults": {
           "line": {
            "color": "#2a3f5f"
           }
          },
          "ternary": {
           "aaxis": {
            "gridcolor": "white",
            "linecolor": "white",
            "ticks": ""
           },
           "baxis": {
            "gridcolor": "white",
            "linecolor": "white",
            "ticks": ""
           },
           "bgcolor": "#E5ECF6",
           "caxis": {
            "gridcolor": "white",
            "linecolor": "white",
            "ticks": ""
           }
          },
          "title": {
           "x": 0.05
          },
          "xaxis": {
           "automargin": true,
           "gridcolor": "white",
           "linecolor": "white",
           "ticks": "",
           "title": {
            "standoff": 15
           },
           "zerolinecolor": "white",
           "zerolinewidth": 2
          },
          "yaxis": {
           "automargin": true,
           "gridcolor": "white",
           "linecolor": "white",
           "ticks": "",
           "title": {
            "standoff": 15
           },
           "zerolinecolor": "white",
           "zerolinewidth": 2
          }
         }
        },
        "title": {
         "font": {
          "color": "#4D5663"
         },
         "text": "GDP by continent"
        },
        "xaxis": {
         "gridcolor": "#E1E5ED",
         "showgrid": true,
         "tickfont": {
          "color": "#4D5663"
         },
         "title": {
          "font": {
           "color": "#4D5663"
          },
          "text": ""
         },
         "zerolinecolor": "#E1E5ED"
        },
        "yaxis": {
         "gridcolor": "#E1E5ED",
         "showgrid": true,
         "tickfont": {
          "color": "#4D5663"
         },
         "title": {
          "font": {
           "color": "#4D5663"
          },
          "text": ""
         },
         "zerolinecolor": "#E1E5ED"
        }
       }
      },
      "text/html": [
       "<div>                            <div id=\"d8799549-5324-4552-bdec-cfd1dbe541f6\" class=\"plotly-graph-div\" style=\"height:525px; width:100%;\"></div>            <script type=\"text/javascript\">                require([\"plotly\"], function(Plotly) {                    window.PLOTLYENV=window.PLOTLYENV || {};\n",
       "                    window.PLOTLYENV.BASE_URL='https://plot.ly';                                    if (document.getElementById(\"d8799549-5324-4552-bdec-cfd1dbe541f6\")) {                    Plotly.newPlot(                        \"d8799549-5324-4552-bdec-cfd1dbe541f6\",                        [{\"marker\":{\"color\":\"rgba(255, 153, 51, 0.6)\",\"line\":{\"color\":\"rgba(255, 153, 51, 1.0)\",\"width\":1}},\"name\":\"IMF_GDP\",\"orientation\":\"v\",\"text\":\"\",\"x\":[\"Asia\",\"North America\",\"Europe\",\"South America\",\"Africa\",\"Oceania\"],\"y\":[43.840032,31.091977000000004,26.457598,3.878157,3.099324,2.148952],\"type\":\"bar\"}],                        {\"legend\":{\"bgcolor\":\"#F5F6F9\",\"font\":{\"color\":\"#4D5663\"}},\"paper_bgcolor\":\"#F5F6F9\",\"plot_bgcolor\":\"#F5F6F9\",\"template\":{\"data\":{\"barpolar\":[{\"marker\":{\"line\":{\"color\":\"#E5ECF6\",\"width\":0.5},\"pattern\":{\"fillmode\":\"overlay\",\"size\":10,\"solidity\":0.2}},\"type\":\"barpolar\"}],\"bar\":[{\"error_x\":{\"color\":\"#2a3f5f\"},\"error_y\":{\"color\":\"#2a3f5f\"},\"marker\":{\"line\":{\"color\":\"#E5ECF6\",\"width\":0.5},\"pattern\":{\"fillmode\":\"overlay\",\"size\":10,\"solidity\":0.2}},\"type\":\"bar\"}],\"carpet\":[{\"aaxis\":{\"endlinecolor\":\"#2a3f5f\",\"gridcolor\":\"white\",\"linecolor\":\"white\",\"minorgridcolor\":\"white\",\"startlinecolor\":\"#2a3f5f\"},\"baxis\":{\"endlinecolor\":\"#2a3f5f\",\"gridcolor\":\"white\",\"linecolor\":\"white\",\"minorgridcolor\":\"white\",\"startlinecolor\":\"#2a3f5f\"},\"type\":\"carpet\"}],\"choropleth\":[{\"colorbar\":{\"outlinewidth\":0,\"ticks\":\"\"},\"type\":\"choropleth\"}],\"contourcarpet\":[{\"colorbar\":{\"outlinewidth\":0,\"ticks\":\"\"},\"type\":\"contourcarpet\"}],\"contour\":[{\"colorbar\":{\"outlinewidth\":0,\"ticks\":\"\"},\"colorscale\":[[0.0,\"#0d0887\"],[0.1111111111111111,\"#46039f\"],[0.2222222222222222,\"#7201a8\"],[0.3333333333333333,\"#9c179e\"],[0.4444444444444444,\"#bd3786\"],[0.5555555555555556,\"#d8576b\"],[0.6666666666666666,\"#ed7953\"],[0.7777777777777778,\"#fb9f3a\"],[0.8888888888888888,\"#fdca26\"],[1.0,\"#f0f921\"]],\"type\":\"contour\"}],\"heatmapgl\":[{\"colorbar\":{\"outlinewidth\":0,\"ticks\":\"\"},\"colorscale\":[[0.0,\"#0d0887\"],[0.1111111111111111,\"#46039f\"],[0.2222222222222222,\"#7201a8\"],[0.3333333333333333,\"#9c179e\"],[0.4444444444444444,\"#bd3786\"],[0.5555555555555556,\"#d8576b\"],[0.6666666666666666,\"#ed7953\"],[0.7777777777777778,\"#fb9f3a\"],[0.8888888888888888,\"#fdca26\"],[1.0,\"#f0f921\"]],\"type\":\"heatmapgl\"}],\"heatmap\":[{\"colorbar\":{\"outlinewidth\":0,\"ticks\":\"\"},\"colorscale\":[[0.0,\"#0d0887\"],[0.1111111111111111,\"#46039f\"],[0.2222222222222222,\"#7201a8\"],[0.3333333333333333,\"#9c179e\"],[0.4444444444444444,\"#bd3786\"],[0.5555555555555556,\"#d8576b\"],[0.6666666666666666,\"#ed7953\"],[0.7777777777777778,\"#fb9f3a\"],[0.8888888888888888,\"#fdca26\"],[1.0,\"#f0f921\"]],\"type\":\"heatmap\"}],\"histogram2dcontour\":[{\"colorbar\":{\"outlinewidth\":0,\"ticks\":\"\"},\"colorscale\":[[0.0,\"#0d0887\"],[0.1111111111111111,\"#46039f\"],[0.2222222222222222,\"#7201a8\"],[0.3333333333333333,\"#9c179e\"],[0.4444444444444444,\"#bd3786\"],[0.5555555555555556,\"#d8576b\"],[0.6666666666666666,\"#ed7953\"],[0.7777777777777778,\"#fb9f3a\"],[0.8888888888888888,\"#fdca26\"],[1.0,\"#f0f921\"]],\"type\":\"histogram2dcontour\"}],\"histogram2d\":[{\"colorbar\":{\"outlinewidth\":0,\"ticks\":\"\"},\"colorscale\":[[0.0,\"#0d0887\"],[0.1111111111111111,\"#46039f\"],[0.2222222222222222,\"#7201a8\"],[0.3333333333333333,\"#9c179e\"],[0.4444444444444444,\"#bd3786\"],[0.5555555555555556,\"#d8576b\"],[0.6666666666666666,\"#ed7953\"],[0.7777777777777778,\"#fb9f3a\"],[0.8888888888888888,\"#fdca26\"],[1.0,\"#f0f921\"]],\"type\":\"histogram2d\"}],\"histogram\":[{\"marker\":{\"pattern\":{\"fillmode\":\"overlay\",\"size\":10,\"solidity\":0.2}},\"type\":\"histogram\"}],\"mesh3d\":[{\"colorbar\":{\"outlinewidth\":0,\"ticks\":\"\"},\"type\":\"mesh3d\"}],\"parcoords\":[{\"line\":{\"colorbar\":{\"outlinewidth\":0,\"ticks\":\"\"}},\"type\":\"parcoords\"}],\"pie\":[{\"automargin\":true,\"type\":\"pie\"}],\"scatter3d\":[{\"line\":{\"colorbar\":{\"outlinewidth\":0,\"ticks\":\"\"}},\"marker\":{\"colorbar\":{\"outlinewidth\":0,\"ticks\":\"\"}},\"type\":\"scatter3d\"}],\"scattercarpet\":[{\"marker\":{\"colorbar\":{\"outlinewidth\":0,\"ticks\":\"\"}},\"type\":\"scattercarpet\"}],\"scattergeo\":[{\"marker\":{\"colorbar\":{\"outlinewidth\":0,\"ticks\":\"\"}},\"type\":\"scattergeo\"}],\"scattergl\":[{\"marker\":{\"colorbar\":{\"outlinewidth\":0,\"ticks\":\"\"}},\"type\":\"scattergl\"}],\"scattermapbox\":[{\"marker\":{\"colorbar\":{\"outlinewidth\":0,\"ticks\":\"\"}},\"type\":\"scattermapbox\"}],\"scatterpolargl\":[{\"marker\":{\"colorbar\":{\"outlinewidth\":0,\"ticks\":\"\"}},\"type\":\"scatterpolargl\"}],\"scatterpolar\":[{\"marker\":{\"colorbar\":{\"outlinewidth\":0,\"ticks\":\"\"}},\"type\":\"scatterpolar\"}],\"scatter\":[{\"fillpattern\":{\"fillmode\":\"overlay\",\"size\":10,\"solidity\":0.2},\"type\":\"scatter\"}],\"scatterternary\":[{\"marker\":{\"colorbar\":{\"outlinewidth\":0,\"ticks\":\"\"}},\"type\":\"scatterternary\"}],\"surface\":[{\"colorbar\":{\"outlinewidth\":0,\"ticks\":\"\"},\"colorscale\":[[0.0,\"#0d0887\"],[0.1111111111111111,\"#46039f\"],[0.2222222222222222,\"#7201a8\"],[0.3333333333333333,\"#9c179e\"],[0.4444444444444444,\"#bd3786\"],[0.5555555555555556,\"#d8576b\"],[0.6666666666666666,\"#ed7953\"],[0.7777777777777778,\"#fb9f3a\"],[0.8888888888888888,\"#fdca26\"],[1.0,\"#f0f921\"]],\"type\":\"surface\"}],\"table\":[{\"cells\":{\"fill\":{\"color\":\"#EBF0F8\"},\"line\":{\"color\":\"white\"}},\"header\":{\"fill\":{\"color\":\"#C8D4E3\"},\"line\":{\"color\":\"white\"}},\"type\":\"table\"}]},\"layout\":{\"annotationdefaults\":{\"arrowcolor\":\"#2a3f5f\",\"arrowhead\":0,\"arrowwidth\":1},\"autotypenumbers\":\"strict\",\"coloraxis\":{\"colorbar\":{\"outlinewidth\":0,\"ticks\":\"\"}},\"colorscale\":{\"diverging\":[[0,\"#8e0152\"],[0.1,\"#c51b7d\"],[0.2,\"#de77ae\"],[0.3,\"#f1b6da\"],[0.4,\"#fde0ef\"],[0.5,\"#f7f7f7\"],[0.6,\"#e6f5d0\"],[0.7,\"#b8e186\"],[0.8,\"#7fbc41\"],[0.9,\"#4d9221\"],[1,\"#276419\"]],\"sequential\":[[0.0,\"#0d0887\"],[0.1111111111111111,\"#46039f\"],[0.2222222222222222,\"#7201a8\"],[0.3333333333333333,\"#9c179e\"],[0.4444444444444444,\"#bd3786\"],[0.5555555555555556,\"#d8576b\"],[0.6666666666666666,\"#ed7953\"],[0.7777777777777778,\"#fb9f3a\"],[0.8888888888888888,\"#fdca26\"],[1.0,\"#f0f921\"]],\"sequentialminus\":[[0.0,\"#0d0887\"],[0.1111111111111111,\"#46039f\"],[0.2222222222222222,\"#7201a8\"],[0.3333333333333333,\"#9c179e\"],[0.4444444444444444,\"#bd3786\"],[0.5555555555555556,\"#d8576b\"],[0.6666666666666666,\"#ed7953\"],[0.7777777777777778,\"#fb9f3a\"],[0.8888888888888888,\"#fdca26\"],[1.0,\"#f0f921\"]]},\"colorway\":[\"#636efa\",\"#EF553B\",\"#00cc96\",\"#ab63fa\",\"#FFA15A\",\"#19d3f3\",\"#FF6692\",\"#B6E880\",\"#FF97FF\",\"#FECB52\"],\"font\":{\"color\":\"#2a3f5f\"},\"geo\":{\"bgcolor\":\"white\",\"lakecolor\":\"white\",\"landcolor\":\"#E5ECF6\",\"showlakes\":true,\"showland\":true,\"subunitcolor\":\"white\"},\"hoverlabel\":{\"align\":\"left\"},\"hovermode\":\"closest\",\"mapbox\":{\"style\":\"light\"},\"paper_bgcolor\":\"white\",\"plot_bgcolor\":\"#E5ECF6\",\"polar\":{\"angularaxis\":{\"gridcolor\":\"white\",\"linecolor\":\"white\",\"ticks\":\"\"},\"bgcolor\":\"#E5ECF6\",\"radialaxis\":{\"gridcolor\":\"white\",\"linecolor\":\"white\",\"ticks\":\"\"}},\"scene\":{\"xaxis\":{\"backgroundcolor\":\"#E5ECF6\",\"gridcolor\":\"white\",\"gridwidth\":2,\"linecolor\":\"white\",\"showbackground\":true,\"ticks\":\"\",\"zerolinecolor\":\"white\"},\"yaxis\":{\"backgroundcolor\":\"#E5ECF6\",\"gridcolor\":\"white\",\"gridwidth\":2,\"linecolor\":\"white\",\"showbackground\":true,\"ticks\":\"\",\"zerolinecolor\":\"white\"},\"zaxis\":{\"backgroundcolor\":\"#E5ECF6\",\"gridcolor\":\"white\",\"gridwidth\":2,\"linecolor\":\"white\",\"showbackground\":true,\"ticks\":\"\",\"zerolinecolor\":\"white\"}},\"shapedefaults\":{\"line\":{\"color\":\"#2a3f5f\"}},\"ternary\":{\"aaxis\":{\"gridcolor\":\"white\",\"linecolor\":\"white\",\"ticks\":\"\"},\"baxis\":{\"gridcolor\":\"white\",\"linecolor\":\"white\",\"ticks\":\"\"},\"bgcolor\":\"#E5ECF6\",\"caxis\":{\"gridcolor\":\"white\",\"linecolor\":\"white\",\"ticks\":\"\"}},\"title\":{\"x\":0.05},\"xaxis\":{\"automargin\":true,\"gridcolor\":\"white\",\"linecolor\":\"white\",\"ticks\":\"\",\"title\":{\"standoff\":15},\"zerolinecolor\":\"white\",\"zerolinewidth\":2},\"yaxis\":{\"automargin\":true,\"gridcolor\":\"white\",\"linecolor\":\"white\",\"ticks\":\"\",\"title\":{\"standoff\":15},\"zerolinecolor\":\"white\",\"zerolinewidth\":2}}},\"title\":{\"font\":{\"color\":\"#4D5663\"},\"text\":\"GDP by continent\"},\"xaxis\":{\"gridcolor\":\"#E1E5ED\",\"showgrid\":true,\"tickfont\":{\"color\":\"#4D5663\"},\"title\":{\"font\":{\"color\":\"#4D5663\"},\"text\":\"\"},\"zerolinecolor\":\"#E1E5ED\"},\"yaxis\":{\"gridcolor\":\"#E1E5ED\",\"showgrid\":true,\"tickfont\":{\"color\":\"#4D5663\"},\"title\":{\"font\":{\"color\":\"#4D5663\"},\"text\":\"\"},\"zerolinecolor\":\"#E1E5ED\"}},                        {\"showLink\": true, \"linkText\": \"Export to plot.ly\", \"plotlyServerURL\": \"https://plot.ly\", \"responsive\": true}                    ).then(function(){\n",
       "                            \n",
       "var gd = document.getElementById('d8799549-5324-4552-bdec-cfd1dbe541f6');\n",
       "var x = new MutationObserver(function (mutations, observer) {{\n",
       "        var display = window.getComputedStyle(gd).display;\n",
       "        if (!display || display === 'none') {{\n",
       "            console.log([gd, 'removed!']);\n",
       "            Plotly.purge(gd);\n",
       "            observer.disconnect();\n",
       "        }}\n",
       "}});\n",
       "\n",
       "// Listen for the removal of the full notebook cells\n",
       "var notebookContainer = gd.closest('#notebook-container');\n",
       "if (notebookContainer) {{\n",
       "    x.observe(notebookContainer, {childList: true});\n",
       "}}\n",
       "\n",
       "// Listen for the clearing of the current output cell\n",
       "var outputEl = gd.closest('.output');\n",
       "if (outputEl) {{\n",
       "    x.observe(outputEl, {childList: true});\n",
       "}}\n",
       "\n",
       "                        })                };                });            </script>        </div>"
      ]
     },
     "metadata": {},
     "output_type": "display_data"
    }
   ],
   "source": [
    "grouped.sort_values(ascending=False).iplot(kind = 'bar', title='GDP by continent')"
   ]
  },
  {
   "cell_type": "code",
   "execution_count": 15,
   "id": "04c344c4",
   "metadata": {},
   "outputs": [],
   "source": [
    "europe = df[df['Continent'] == 'Europe']"
   ]
  },
  {
   "cell_type": "code",
   "execution_count": 16,
   "id": "46d06564",
   "metadata": {},
   "outputs": [
    {
     "data": {
      "text/html": [
       "<div>\n",
       "<style scoped>\n",
       "    .dataframe tbody tr th:only-of-type {\n",
       "        vertical-align: middle;\n",
       "    }\n",
       "\n",
       "    .dataframe tbody tr th {\n",
       "        vertical-align: top;\n",
       "    }\n",
       "\n",
       "    .dataframe thead th {\n",
       "        text-align: right;\n",
       "    }\n",
       "</style>\n",
       "<table border=\"1\" class=\"dataframe\">\n",
       "  <thead>\n",
       "    <tr style=\"text-align: right;\">\n",
       "      <th></th>\n",
       "      <th>Rank</th>\n",
       "      <th>ID</th>\n",
       "      <th>Country</th>\n",
       "      <th>Continent</th>\n",
       "      <th>Population</th>\n",
       "      <th>IMF_GDP</th>\n",
       "      <th>GDP_per_capita</th>\n",
       "    </tr>\n",
       "  </thead>\n",
       "  <tbody>\n",
       "    <tr>\n",
       "      <th>3</th>\n",
       "      <td>4</td>\n",
       "      <td>276</td>\n",
       "      <td>Germany</td>\n",
       "      <td>Europe</td>\n",
       "      <td>83294.63</td>\n",
       "      <td>4.564778</td>\n",
       "      <td>54802.79</td>\n",
       "    </tr>\n",
       "    <tr>\n",
       "      <th>5</th>\n",
       "      <td>6</td>\n",
       "      <td>826</td>\n",
       "      <td>United Kingdom</td>\n",
       "      <td>Europe</td>\n",
       "      <td>67736.80</td>\n",
       "      <td>3.686935</td>\n",
       "      <td>54430.31</td>\n",
       "    </tr>\n",
       "    <tr>\n",
       "      <th>6</th>\n",
       "      <td>7</td>\n",
       "      <td>250</td>\n",
       "      <td>France</td>\n",
       "      <td>Europe</td>\n",
       "      <td>64756.58</td>\n",
       "      <td>3.086226</td>\n",
       "      <td>47658.88</td>\n",
       "    </tr>\n",
       "    <tr>\n",
       "      <th>8</th>\n",
       "      <td>9</td>\n",
       "      <td>380</td>\n",
       "      <td>Italy</td>\n",
       "      <td>Europe</td>\n",
       "      <td>58870.76</td>\n",
       "      <td>2.169384</td>\n",
       "      <td>36849.94</td>\n",
       "    </tr>\n",
       "    <tr>\n",
       "      <th>13</th>\n",
       "      <td>14</td>\n",
       "      <td>643</td>\n",
       "      <td>Russia</td>\n",
       "      <td>Europe</td>\n",
       "      <td>144444.36</td>\n",
       "      <td>1.713154</td>\n",
       "      <td>11860.30</td>\n",
       "    </tr>\n",
       "  </tbody>\n",
       "</table>\n",
       "</div>"
      ],
      "text/plain": [
       "    Rank   ID         Country Continent  Population   IMF_GDP  GDP_per_capita\n",
       "3      4  276         Germany    Europe    83294.63  4.564778        54802.79\n",
       "5      6  826  United Kingdom    Europe    67736.80  3.686935        54430.31\n",
       "6      7  250          France    Europe    64756.58  3.086226        47658.88\n",
       "8      9  380           Italy    Europe    58870.76  2.169384        36849.94\n",
       "13    14  643          Russia    Europe   144444.36  1.713154        11860.30"
      ]
     },
     "execution_count": 16,
     "metadata": {},
     "output_type": "execute_result"
    }
   ],
   "source": [
    "europe.head()"
   ]
  },
  {
   "cell_type": "code",
   "execution_count": 17,
   "id": "9513df0f",
   "metadata": {
    "scrolled": false
   },
   "outputs": [
    {
     "data": {
      "application/vnd.plotly.v1+json": {
       "config": {
        "linkText": "Export to plot.ly",
        "plotlyServerURL": "https://plot.ly",
        "showLink": true
       },
       "data": [
        {
         "labels": [
          "Germany",
          "United Kingdom",
          "France",
          "Italy",
          "Russia",
          "Spain",
          "Netherlands",
          "Switzerland",
          "Poland",
          "Turkey",
          "Sweden",
          "Belgium",
          "Ireland",
          "Norway",
          "Austria",
          "Denmark",
          "Czech Republic",
          "Finland",
          "Romania",
          "Portugal"
         ],
         "marker": {
          "colors": [
           "rgba(255, 153, 51, 1.0)",
           "rgba(55, 128, 191, 1.0)",
           "rgba(50, 171, 96, 1.0)",
           "rgba(128, 0, 128, 1.0)",
           "rgba(219, 64, 82, 1.0)",
           "rgba(0, 128, 128, 1.0)",
           "rgba(255, 255, 51, 1.0)",
           "rgba(128, 128, 0, 1.0)",
           "rgba(251, 128, 114, 1.0)",
           "rgba(128, 177, 211, 1.0)",
           "rgba(128, 177, 211, 0.8999999999999999)",
           "rgba(255, 153, 51, 0.8999999999999999)",
           "rgba(55, 128, 191, 0.8999999999999999)",
           "rgba(50, 171, 96, 0.8999999999999999)",
           "rgba(128, 0, 128, 0.8999999999999999)",
           "rgba(219, 64, 82, 0.8999999999999999)",
           "rgba(0, 128, 128, 0.8999999999999999)",
           "rgba(255, 255, 51, 0.8999999999999999)",
           "rgba(128, 128, 0, 0.8999999999999999)",
           "rgba(251, 128, 114, 0.8999999999999999)"
          ]
         },
         "name": "",
         "type": "pie",
         "values": [
          4.564778,
          3.686935,
          3.086226,
          2.169384,
          1.713154,
          1.51909,
          1.072789,
          0.888199,
          0.755645,
          0.714305,
          0.669872,
          0.639716,
          0.562134,
          0.549733,
          0.518808,
          0.419266,
          0.318938,
          0.314502,
          0.312694,
          0.267241
         ]
        }
       ],
       "layout": {
        "legend": {
         "bgcolor": "#F5F6F9",
         "font": {
          "color": "#4D5663"
         }
        },
        "paper_bgcolor": "#F5F6F9",
        "plot_bgcolor": "#F5F6F9",
        "title": "Top 20 countries with the most % in Europe GDP ",
        "titlefont": {
         "color": "#4D5663"
        }
       }
      },
      "text/html": [
       "<div>                            <div id=\"3db347d1-0a6e-4856-9214-7ffffa1ea235\" class=\"plotly-graph-div\" style=\"height:525px; width:100%;\"></div>            <script type=\"text/javascript\">                require([\"plotly\"], function(Plotly) {                    window.PLOTLYENV=window.PLOTLYENV || {};\n",
       "                    window.PLOTLYENV.BASE_URL='https://plot.ly';                                    if (document.getElementById(\"3db347d1-0a6e-4856-9214-7ffffa1ea235\")) {                    Plotly.newPlot(                        \"3db347d1-0a6e-4856-9214-7ffffa1ea235\",                        [{\"labels\":[\"Germany\",\"United Kingdom\",\"France\",\"Italy\",\"Russia\",\"Spain\",\"Netherlands\",\"Switzerland\",\"Poland\",\"Turkey\",\"Sweden\",\"Belgium\",\"Ireland\",\"Norway\",\"Austria\",\"Denmark\",\"Czech Republic\",\"Finland\",\"Romania\",\"Portugal\"],\"marker\":{\"colors\":[\"rgba(255, 153, 51, 1.0)\",\"rgba(55, 128, 191, 1.0)\",\"rgba(50, 171, 96, 1.0)\",\"rgba(128, 0, 128, 1.0)\",\"rgba(219, 64, 82, 1.0)\",\"rgba(0, 128, 128, 1.0)\",\"rgba(255, 255, 51, 1.0)\",\"rgba(128, 128, 0, 1.0)\",\"rgba(251, 128, 114, 1.0)\",\"rgba(128, 177, 211, 1.0)\",\"rgba(128, 177, 211, 0.8999999999999999)\",\"rgba(255, 153, 51, 0.8999999999999999)\",\"rgba(55, 128, 191, 0.8999999999999999)\",\"rgba(50, 171, 96, 0.8999999999999999)\",\"rgba(128, 0, 128, 0.8999999999999999)\",\"rgba(219, 64, 82, 0.8999999999999999)\",\"rgba(0, 128, 128, 0.8999999999999999)\",\"rgba(255, 255, 51, 0.8999999999999999)\",\"rgba(128, 128, 0, 0.8999999999999999)\",\"rgba(251, 128, 114, 0.8999999999999999)\"]},\"name\":\"\",\"values\":[4.564778,3.686935,3.086226,2.169384,1.713154,1.51909,1.072789,0.888199,0.755645,0.714305,0.669872,0.639716,0.562134,0.549733,0.518808,0.419266,0.318938,0.314502,0.312694,0.267241],\"type\":\"pie\"}],                        {\"legend\":{\"bgcolor\":\"#F5F6F9\",\"font\":{\"color\":\"#4D5663\"}},\"paper_bgcolor\":\"#F5F6F9\",\"plot_bgcolor\":\"#F5F6F9\",\"titlefont\":{\"color\":\"#4D5663\"},\"title\":\"Top 20 countries with the most % in Europe GDP \"},                        {\"showLink\": true, \"linkText\": \"Export to plot.ly\", \"plotlyServerURL\": \"https://plot.ly\", \"responsive\": true}                    ).then(function(){\n",
       "                            \n",
       "var gd = document.getElementById('3db347d1-0a6e-4856-9214-7ffffa1ea235');\n",
       "var x = new MutationObserver(function (mutations, observer) {{\n",
       "        var display = window.getComputedStyle(gd).display;\n",
       "        if (!display || display === 'none') {{\n",
       "            console.log([gd, 'removed!']);\n",
       "            Plotly.purge(gd);\n",
       "            observer.disconnect();\n",
       "        }}\n",
       "}});\n",
       "\n",
       "// Listen for the removal of the full notebook cells\n",
       "var notebookContainer = gd.closest('#notebook-container');\n",
       "if (notebookContainer) {{\n",
       "    x.observe(notebookContainer, {childList: true});\n",
       "}}\n",
       "\n",
       "// Listen for the clearing of the current output cell\n",
       "var outputEl = gd.closest('.output');\n",
       "if (outputEl) {{\n",
       "    x.observe(outputEl, {childList: true});\n",
       "}}\n",
       "\n",
       "                        })                };                });            </script>        </div>"
      ]
     },
     "metadata": {},
     "output_type": "display_data"
    }
   ],
   "source": [
    "europe.head(20).iplot(kind = 'pie', values = 'IMF_GDP', labels='Country', title='Top 20 countries with the most % in Europe GDP ')"
   ]
  },
  {
   "cell_type": "code",
   "execution_count": null,
   "id": "9b6e8788",
   "metadata": {},
   "outputs": [],
   "source": []
  }
 ],
 "metadata": {
  "kernelspec": {
   "display_name": "Python 3 (ipykernel)",
   "language": "python",
   "name": "python3"
  },
  "language_info": {
   "codemirror_mode": {
    "name": "ipython",
    "version": 3
   },
   "file_extension": ".py",
   "mimetype": "text/x-python",
   "name": "python",
   "nbconvert_exporter": "python",
   "pygments_lexer": "ipython3",
   "version": "3.10.9"
  }
 },
 "nbformat": 4,
 "nbformat_minor": 5
}
